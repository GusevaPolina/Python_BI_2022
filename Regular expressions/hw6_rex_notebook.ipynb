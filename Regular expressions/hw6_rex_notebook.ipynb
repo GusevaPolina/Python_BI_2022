{
  "nbformat": 4,
  "nbformat_minor": 0,
  "metadata": {
    "colab": {
      "provenance": []
    },
    "kernelspec": {
      "name": "python3",
      "display_name": "Python 3"
    },
    "language_info": {
      "name": "python"
    }
  },
  "cells": [
    {
      "cell_type": "markdown",
      "source": [
        "# the 6th homework: regular expressions"
      ],
      "metadata": {
        "id": "J9u_8da3tUb7"
      }
    },
    {
      "cell_type": "code",
      "execution_count": 1,
      "metadata": {
        "id": "6pgE5i09sU4t"
      },
      "outputs": [],
      "source": [
        "import re\n",
        "import matplotlib.pyplot as plt"
      ]
    },
    {
      "cell_type": "markdown",
      "source": [
        "1. Parse the references file using regular expressions and write all ftp links into the ftps file (5 points)"
      ],
      "metadata": {
        "id": "4fZ3utBNsWkj"
      }
    },
    {
      "cell_type": "code",
      "source": [
        "# download a file with ftp links\n",
        "!wget https://raw.githubusercontent.com/Serfentum/bf_course/master/15.re/references"
      ],
      "metadata": {
        "colab": {
          "base_uri": "https://localhost:8080/"
        },
        "id": "iHnFNn4vsWQT",
        "outputId": "ef4c4faf-0a82-4a24-91c9-b43bf140f429"
      },
      "execution_count": 2,
      "outputs": [
        {
          "output_type": "stream",
          "name": "stdout",
          "text": [
            "--2022-11-17 17:45:05--  https://raw.githubusercontent.com/Serfentum/bf_course/master/15.re/references\n",
            "Resolving raw.githubusercontent.com (raw.githubusercontent.com)... 185.199.108.133, 185.199.111.133, 185.199.110.133, ...\n",
            "Connecting to raw.githubusercontent.com (raw.githubusercontent.com)|185.199.108.133|:443... connected.\n",
            "HTTP request sent, awaiting response... 200 OK\n",
            "Length: 1206044 (1.1M) [text/plain]\n",
            "Saving to: ‘references’\n",
            "\n",
            "\rreferences            0%[                    ]       0  --.-KB/s               \rreferences          100%[===================>]   1.15M  --.-KB/s    in 0.05s   \n",
            "\n",
            "2022-11-17 17:45:06 (21.2 MB/s) - ‘references’ saved [1206044/1206044]\n",
            "\n"
          ]
        }
      ]
    },
    {
      "cell_type": "code",
      "source": [
        "# read the whole file with links\n",
        "with open('/content/references') as ref:\n",
        "  ref_read = ref.read()\n",
        "\n",
        "# create a pattern to retrieve all links\n",
        "pattern_ref = r'ftp\\.[./#\\w]*'\n",
        "\n",
        "# write the result into a output file\n",
        "with open('ftps', 'w') as ftps:\n",
        "  print(*re.findall(pattern_ref, ref_read), file=ftps, sep = '\\n')"
      ],
      "metadata": {
        "id": "EzLaYb5isbRX"
      },
      "execution_count": 3,
      "outputs": []
    },
    {
      "cell_type": "code",
      "source": [
        "re.findall(pattern_ref, ref_read)[:10]"
      ],
      "metadata": {
        "colab": {
          "base_uri": "https://localhost:8080/"
        },
        "id": "BGqH1-K0uGrR",
        "outputId": "51556124-aee4-4ce0-f35f-8afe0ed06445"
      },
      "execution_count": 15,
      "outputs": [
        {
          "output_type": "execute_result",
          "data": {
            "text/plain": [
              "['ftp.sra.ebi.ac.uk/vol1/fastq/ERR106/001/ERR1063831/ERR1063831_1.fastq.gz',\n",
              " 'ftp.sra.ebi.ac.uk/vol1/fastq/ERR106/001/ERR1063831/ERR1063831_2.fastq.gz',\n",
              " 'ftp.sra.ebi.ac.uk/vol1/fastq/ERR106/001/ERR1063831/ERR1063831_1.fastq.gz',\n",
              " 'ftp.sra.ebi.ac.uk/vol1/fastq/ERR106/001/ERR1063831/ERR1063831_2.fastq.gz',\n",
              " 'ftp.sra.ebi.ac.uk/vol1/ERA524/ERA524472/ERR1063831.md5',\n",
              " 'ftp.sra.ebi.ac.uk/vol1/ERA524/ERA524472/cram/17150_3#49.cram',\n",
              " 'ftp.sra.ebi.ac.uk/vol1/ERA524/ERA524472/ERR1063831.md5',\n",
              " 'ftp.sra.ebi.ac.uk/vol1/ERA524/ERA524472/cram/17150_3#49.cram',\n",
              " 'ftp.sra.ebi.ac.uk/vol1/fastq/ERR106/002/ERR1063832/ERR1063832_1.fastq.gz',\n",
              " 'ftp.sra.ebi.ac.uk/vol1/fastq/ERR106/002/ERR1063832/ERR1063832_2.fastq.gz']"
            ]
          },
          "metadata": {},
          "execution_count": 15
        }
      ]
    },
    {
      "cell_type": "markdown",
      "source": [
        "2. Extract all numbers (consisting of only digits) from the story 2430 A.D. (5 points)"
      ],
      "metadata": {
        "id": "d_O8AoSlsfjl"
      }
    },
    {
      "cell_type": "code",
      "source": [
        "# download a file with the story\n",
        "!wget https://raw.githubusercontent.com/Serfentum/bf_course/master/15.re/2430AD"
      ],
      "metadata": {
        "colab": {
          "base_uri": "https://localhost:8080/"
        },
        "id": "icsDn8KEsdVs",
        "outputId": "26636330-5e6c-4127-e14e-773bda3b5afe"
      },
      "execution_count": 4,
      "outputs": [
        {
          "output_type": "stream",
          "name": "stdout",
          "text": [
            "--2022-11-17 17:45:35--  https://raw.githubusercontent.com/Serfentum/bf_course/master/15.re/2430AD\n",
            "Resolving raw.githubusercontent.com (raw.githubusercontent.com)... 185.199.108.133, 185.199.109.133, 185.199.111.133, ...\n",
            "Connecting to raw.githubusercontent.com (raw.githubusercontent.com)|185.199.108.133|:443... connected.\n",
            "HTTP request sent, awaiting response... 200 OK\n",
            "Length: 16759 (16K) [text/plain]\n",
            "Saving to: ‘2430AD’\n",
            "\n",
            "\r2430AD                0%[                    ]       0  --.-KB/s               \r2430AD              100%[===================>]  16.37K  --.-KB/s    in 0.001s  \n",
            "\n",
            "2022-11-17 17:45:35 (18.0 MB/s) - ‘2430AD’ saved [16759/16759]\n",
            "\n"
          ]
        }
      ]
    },
    {
      "cell_type": "code",
      "source": [
        "# read the whole story\n",
        "with open('/content/2430AD') as tale:\n",
        "  tale_read = tale.read()\n",
        "\n",
        "# create a pattern to retrieve all numbers\n",
        "pattern_tale = r'([0-9]+)(\\.[0-9]+)?'\n",
        "\n",
        "# write the result into a output file\n",
        "with open('task2', 'w') as numbers:\n",
        "  print(*[i[0] for i in re.findall(pattern_tale, tale_read)], file=numbers)"
      ],
      "metadata": {
        "id": "WNooWSS0siR0"
      },
      "execution_count": 5,
      "outputs": []
    },
    {
      "cell_type": "code",
      "source": [
        "[i[0] for i in re.findall(pattern_tale, tale_read)]"
      ],
      "metadata": {
        "colab": {
          "base_uri": "https://localhost:8080/"
        },
        "id": "2KY8qkg7uKZb",
        "outputId": "7d6bf479-12b5-415f-b1da-17866a0a37fa"
      },
      "execution_count": 16,
      "outputs": [
        {
          "output_type": "execute_result",
          "data": {
            "text/plain": [
              "['2430', '1969', '2430', '2430', '57', '57', '1970', '3', '35', '460', '2430']"
            ]
          },
          "metadata": {},
          "execution_count": 16
        }
      ]
    },
    {
      "cell_type": "markdown",
      "source": [
        "3. From the same story, extract all the words containing the 'a' letter ignoring the case (5 points)"
      ],
      "metadata": {
        "id": "-u3CWJYXsmYW"
      }
    },
    {
      "cell_type": "code",
      "source": [
        "# create a pattern to retrieve all words with the 'a' letter\n",
        "pattern_tale_Aa = r'\\w*[aA]\\w*'\n",
        "\n",
        "# write the result into a output file\n",
        "with open('task3', 'w') as Aa:\n",
        "  print(*re.findall(pattern_tale_Aa, tale_read), file=Aa)"
      ],
      "metadata": {
        "id": "IGjjoioEskRL"
      },
      "execution_count": 6,
      "outputs": []
    },
    {
      "cell_type": "code",
      "source": [
        "re.findall(pattern_tale_Aa, tale_read)[:10]"
      ],
      "metadata": {
        "colab": {
          "base_uri": "https://localhost:8080/"
        },
        "id": "ULzNlnrIuQl1",
        "outputId": "b025ed2a-8ab0-4388-c04e-7caf1dd6b84d"
      },
      "execution_count": 17,
      "outputs": [
        {
          "output_type": "execute_result",
          "data": {
            "text/plain": [
              "['A', 'and', 'dawn', 'and', 'all', 'ache', 'have', 'a', 'nightmare', 'a']"
            ]
          },
          "metadata": {},
          "execution_count": 17
        }
      ]
    },
    {
      "cell_type": "markdown",
      "source": [
        "4. Extract all exclamatory sentences from the story (5 points)"
      ],
      "metadata": {
        "id": "dPtdTuVmssZ0"
      }
    },
    {
      "cell_type": "code",
      "source": [
        "# create a pattern to retrieve all exclamatory sentences\n",
        "pattern_tale_exclamation = r'[a-zA-Z \\,]*!'\n",
        "\n",
        "# write the result into a output file\n",
        "with open('task4', 'w') as exclamation:\n",
        "  print(*re.findall(pattern_tale_exclamation, \n",
        "                    tale_read), file=exclamation)"
      ],
      "metadata": {
        "id": "FqL32KB8sp3z"
      },
      "execution_count": 7,
      "outputs": []
    },
    {
      "cell_type": "code",
      "source": [
        "re.findall(pattern_tale_exclamation, tale_read)"
      ],
      "metadata": {
        "colab": {
          "base_uri": "https://localhost:8080/"
        },
        "id": "elf8983CuUc6",
        "outputId": "68be4299-8372-4eec-c429-59b99a05a730"
      },
      "execution_count": 18,
      "outputs": [
        {
          "output_type": "execute_result",
          "data": {
            "text/plain": [
              "['Yes!',\n",
              " 'Literally!',\n",
              " ' There was once a time!',\n",
              " ' Centuries ago!',\n",
              " 'Think, Cranwitz!',\n",
              " 'If we succeed!']"
            ]
          },
          "metadata": {},
          "execution_count": 18
        }
      ]
    },
    {
      "cell_type": "markdown",
      "source": [
        "5. Plot a histogram of the length distribution of unique words from the story (regarding a case) (5 points)"
      ],
      "metadata": {
        "id": "9F43l4m7svpn"
      }
    },
    {
      "cell_type": "code",
      "source": [
        "# create a pattern to retrieve all words\n",
        "pattern_words = r\"[a-zA-Z0-9-']+\"\n",
        "\n",
        "# find all words\n",
        "all_words = re.findall(pattern_words, tale_read)\n",
        "# unify them\n",
        "all_words_lower = list(map(lambda x: x.lower(), all_words))\n",
        "# create a set of unique words\n",
        "all_words_unique = sorted(set(all_words_lower), key=len)"
      ],
      "metadata": {
        "id": "NyawuO-FsyOf"
      },
      "execution_count": 8,
      "outputs": []
    },
    {
      "cell_type": "code",
      "source": [
        "# for each of the word length count its frequency\n",
        "length_frequency = {}\n",
        "\n",
        "for i in range(len(all_words_unique[0]), len(all_words_unique[-1]) + 1):\n",
        "  length_frequency[i] = len(list(filter(lambda x: len(x) == i, \n",
        "                                        all_words_unique))) / len(all_words_unique)"
      ],
      "metadata": {
        "id": "TmEevHGss1rD"
      },
      "execution_count": 9,
      "outputs": []
    },
    {
      "cell_type": "code",
      "source": [
        "# plot the result\n",
        "plt.figure(figsize=(8,6))\n",
        "plt.bar(length_frequency.keys(), length_frequency.values(), \n",
        "        width=1, edgecolor='k')\n",
        "plt.xticks(range(len(all_words_unique[0]), len(all_words_unique[-1])))\n",
        "plt.title('Length distribution of unique words\\nfrom Buy Jupiter and Other Stories by Isaac Asimov')\n",
        "plt.xlabel('a length of a word')\n",
        "plt.ylabel('frequency');"
      ],
      "metadata": {
        "colab": {
          "base_uri": "https://localhost:8080/",
          "height": 418
        },
        "id": "T4jIaG7Us3yl",
        "outputId": "1066c38a-31dc-4051-a017-b61401dd77dd"
      },
      "execution_count": 19,
      "outputs": [
        {
          "output_type": "display_data",
          "data": {
            "text/plain": [
              "<Figure size 576x432 with 1 Axes>"
            ],
            "image/png": "[encoded data removed]"
          },
          "metadata": {
            "needs_background": "light"
          }
        }
      ]
    },
    {
      "cell_type": "markdown",
      "source": [
        "6. Add after each Russian vowel 'K + an uppercase vowel' (5 points)"
      ],
      "metadata": {
        "id": "6EQ6U3fjs0UX"
      }
    },
    {
      "cell_type": "code",
      "source": [
        "# input your string to transform\n",
        "desirable_string = input('Insert ur string: ')\n",
        "\n",
        "# a list of Russian lower- and uppercase vowels\n",
        "list_vowels = 'УЕАОЭЁЯИЮЫ'\n",
        "list_vowels = list_vowels + list_vowels.lower()\n",
        "\n",
        "# iterate over all vowels starting with the upper once\n",
        "# since the added part contains a tail with a capital vowel\n",
        "for i in list_vowels:\n",
        "  desirable_string = re.sub(f'{i}', f'{i}К{i.upper()}', desirable_string)\n",
        "\n",
        "print(desirable_string)"
      ],
      "metadata": {
        "colab": {
          "base_uri": "https://localhost:8080/"
        },
        "id": "EVwK0Rgts9py",
        "outputId": "4508aa26-57aa-4cc2-fc15-000719dfeb29"
      },
      "execution_count": 13,
      "outputs": [
        {
          "output_type": "stream",
          "name": "stdout",
          "text": [
            "Insert ur string: Сделайте функцию-переводчик с русского на \"кирпичный язык\"\n",
            "СдеКЕлаКАйтеКЕ фуКУнкциКИюКЮ-пеКЕреКЕвоКОдчиКИк с руКУсскоКОгоКО наКА \"киКИрпиКИчныКЫй яКЯзыКЫк\"\n"
          ]
        }
      ]
    },
    {
      "cell_type": "markdown",
      "source": [
        "7. Make a function to extract sentences with a given number of words from the text (considering prepositions and conjunctions as words) (5 extra points)"
      ],
      "metadata": {
        "id": "I9l0PpmPtPE-"
      }
    },
    {
      "cell_type": "code",
      "source": [
        "def find_n_words_sentences(one_string, number):\n",
        "  # recognise %user_number% separate words\n",
        "  pattern_dop = '(([а-яА-Я]+ ?){' + str(number) + '})'\n",
        "  matched = re.findall(pattern_dop, one_string)\n",
        "  # create a desirable output format\n",
        "  for i in range(len(matched)):\n",
        "    matched[i] = tuple(matched[i][0].split())\n",
        "  return matched"
      ],
      "metadata": {
        "id": "dfbJBtyMtFET"
      },
      "execution_count": 14,
      "outputs": []
    },
    {
      "cell_type": "code",
      "source": [
        "find_n_words_sentences(\"Здесь три слова. Здесь тоже три\", 3)"
      ],
      "metadata": {
        "colab": {
          "base_uri": "https://localhost:8080/"
        },
        "id": "wro_GiXKu2-e",
        "outputId": "9530c6f8-1f7b-454c-c1d4-c42e02bc188b"
      },
      "execution_count": 20,
      "outputs": [
        {
          "output_type": "execute_result",
          "data": {
            "text/plain": [
              "[('Здесь', 'три', 'слова'), ('Здесь', 'тоже', 'три')]"
            ]
          },
          "metadata": {},
          "execution_count": 20
        }
      ]
    }
  ]
}