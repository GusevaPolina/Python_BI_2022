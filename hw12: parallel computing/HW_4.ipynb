{
  "cells": [
    {
      "cell_type": "markdown",
      "id": "807eeb67-c734-4bd7-87aa-573d1d55366d",
      "metadata": {
        "id": "807eeb67-c734-4bd7-87aa-573d1d55366d"
      },
      "source": [
        "В формулировке заданий будет использоваться понятие **worker**. Это слово обозначает какую-то единицу параллельного выполнения, в случае питона это может быть **поток** или **процесс**, выбирайте то, что лучше будет подходить к конкретной задаче\n",
        "\n",
        "В каждом задании нужно писать подробные аннотиции типов для:\n",
        "1. Аргументов функций и классов\n",
        "2. Возвращаемых значений\n",
        "3. Классовых атрибутов (если такие есть)\n",
        "\n",
        "В каждом задании нужно писать докстроки в определённом стиле (какой вам больше нравится) для всех функций, классов и методов"
      ]
    },
    {
      "cell_type": "markdown",
      "id": "6d3b4f3a-f226-4ea4-a39f-dfb6e45bd983",
      "metadata": {
        "id": "6d3b4f3a-f226-4ea4-a39f-dfb6e45bd983"
      },
      "source": [
        "# Задание 1 (7 баллов)"
      ]
    },
    {
      "cell_type": "markdown",
      "id": "ba5a5046-e619-4e55-8a36-f0e72f7f8d4a",
      "metadata": {
        "id": "ba5a5046-e619-4e55-8a36-f0e72f7f8d4a"
      },
      "source": [
        "В одном из заданий по ML от вас требовалось написать кастомную реализацию Random Forest. Её проблема состоит в том, что она работает медленно, так как использует всего один поток для работы. Добавление параллельного программирования в код позволит получить существенный прирост в скорости обучения и предсказаний.\n",
        "\n",
        "В данном задании от вас требуется добавить возможность обучать случайный лес параллельно и использовать параллелизм для предсказаний. Для этого вам понадобится:\n",
        "1. Добавить аргумент `n_jobs` в метод `fit`. `n_jobs` показывает количество worker'ов, используемых для распараллеливания\n",
        "2. Добавить аргумент `n_jobs` в методы `predict` и `predict_proba`\n",
        "3. Реализовать функционал по распараллеливанию в данных методах\n",
        "\n",
        "В результате код `random_forest.fit(X, y, n_jobs=2)` и `random_forest.predict(X, y, n_jobs=2)` должен работать в ~1.5-2 раза быстрее, чем `random_forest.fit(X, y, n_jobs=1)` и `random_forest.predict(X, y, n_jobs=1)` соответственно\n",
        "\n",
        "Если у вас по каким-то причинам нет кода случайного леса из ДЗ по ML, то вы можете написать его заново или попросить у однокурсника. *Детали* реализации ML части оцениваться не будут, НО, если вы поломаете логику работы алгоритма во время реализации параллелизма, то за это будут сниматься баллы\n",
        "\n",
        "В задании можно использовать только модули из **стандартной библиотеки** питона, а также функции и классы из **sklearn** при помощи которых вы изначально писали лес"
      ]
    },
    {
      "cell_type": "code",
      "source": [
        "from typing import Optional, List, Tuple"
      ],
      "metadata": {
        "id": "2Upds25YnGAN"
      },
      "id": "2Upds25YnGAN",
      "execution_count": 1,
      "outputs": []
    },
    {
      "cell_type": "code",
      "source": [
        "import numpy as np\n",
        "import warnings\n",
        "import random\n",
        "\n",
        "from sklearn.tree import (DecisionTreeRegressor,\n",
        "                          DecisionTreeClassifier)\n",
        "\n",
        "# establish seed and silence warnings\n",
        "warnings.filterwarnings(\"ignore\")\n",
        "\n",
        "SEED: int = 111\n",
        "random.seed(SEED)\n",
        "np.random.seed(SEED)"
      ],
      "metadata": {
        "id": "Jg8f8sqA5QPj"
      },
      "id": "Jg8f8sqA5QPj",
      "execution_count": 2,
      "outputs": []
    },
    {
      "cell_type": "code",
      "execution_count": 3,
      "id": "af9d8b2d-3b0f-4789-a5f3-dfad537c916e",
      "metadata": {
        "id": "af9d8b2d-3b0f-4789-a5f3-dfad537c916e"
      },
      "outputs": [],
      "source": [
        "from sklearn.base import BaseEstimator\n",
        "from sklearn.datasets import make_classification\n",
        "\n",
        "from joblib import Parallel, delayed\n",
        "from multiprocessing import Pool\n",
        "\n",
        "class RandomForestClassifierCustom(BaseEstimator):\n",
        "  \"\"\"\n",
        "  A custom implementation of RandomForestClassifier using scikit-learn's BaseEstimator\n",
        "  \"\"\"\n",
        "  def __init__(self, \n",
        "               n_estimators: int = 10, \n",
        "               max_depth: Optional[int] = None,\n",
        "               max_features: Optional[int] = None, \n",
        "               random_state: int = SEED) -> None:\n",
        "    \"\"\"\n",
        "    Initialization method for RandomForestClassifierCustom\n",
        "\n",
        "    :param n_estimators: int, optional (default=10)\n",
        "        The number of decision trees in the forest.\n",
        "    :param max_depth: int, optional (default=None)\n",
        "        The maximum depth of each decision tree. If None, then nodes are expanded until all the leaves are pure.\n",
        "    :param max_features: int, optional (default=None)\n",
        "        The number of features to consider when looking for the best split. If None, then all features will be used.\n",
        "    :param random_state: int, optional (default=SEED)\n",
        "        Seed used by the random number generator.\n",
        "\n",
        "    :return: None\n",
        "    \"\"\"\n",
        "    self.classes_ = None\n",
        "    self.n_estimators = n_estimators\n",
        "    self.max_depth = max_depth\n",
        "    self.max_features = max_features\n",
        "    self.random_state = random_state\n",
        "\n",
        "    self.trees = []\n",
        "    self.feat_ids_by_tree = []\n",
        "\n",
        "  def fit(self, X: np.ndarray, y: np.ndarray, \n",
        "          n_jobs: int = 1) -> \"RandomForestClassifierCustom\":\n",
        "\n",
        "    \"\"\"\n",
        "    Build a forest of decision trees from the training set (X, y).\n",
        "\n",
        "    :param X: array-like of shape (n_samples, n_features)\n",
        "        The training input samples.\n",
        "    :param y: array-like of shape (n_samples,)\n",
        "        The target values (class labels) as integers or strings.\n",
        "    :param n_jobs: int, optional (default=1)\n",
        "        The number of jobs to run in parallel for both `feat_ids_by_tree` and `trees` formation.\n",
        "\n",
        "    :return: RandomForestClassifierCustom\n",
        "        Fitted estimator instance\n",
        "    \"\"\"\n",
        "    self.classes_ = sorted(np.unique(y))\n",
        "\n",
        "    def tree_step_maker(i: int) -> np.ndarray:\n",
        "      np.random.seed(self.random_state + i)\n",
        "      feat_ids_by_tree_step = np.random.choice(np.arange(X.shape[1]), \n",
        "                                                size=self.max_features, \n",
        "                                                replace=False)\n",
        "      return feat_ids_by_tree_step\n",
        "\n",
        "    self.feat_ids_by_tree = Parallel(n_jobs=n_jobs)(delayed(tree_step_maker)(i) for i in range(self.n_estimators))\n",
        "\n",
        "    def trees_maker(i: int) -> DecisionTreeClassifier:\n",
        "      np.random.seed(self.random_state + i)\n",
        "      pseudo_slice = np.random.choice(np.arange(len(X)), \n",
        "                                      size=len(X), replace=True)\n",
        "      \n",
        "      clf = DecisionTreeClassifier(max_depth=self.max_depth,\n",
        "                                  max_features=self.max_features,\n",
        "                                  random_state=self.random_state+i)\n",
        "      \n",
        "      return clf.fit(X[pseudo_slice][:, self.feat_ids_by_tree[i]], y[pseudo_slice])\n",
        "\n",
        "    self.trees = Parallel(n_jobs=n_jobs)(delayed(trees_maker)(i) for i in range(self.n_estimators))\n",
        "\n",
        "    return self\n",
        "\n",
        "  def _pred_maker(self, feats: np.ndarray, \n",
        "                  tree: DecisionTreeClassifier, \n",
        "                  X: np.ndarray) -> np.ndarray:\n",
        "    return tree.predict_proba(X[:, feats])\n",
        "\n",
        "  def predict_proba(self, X: np.ndarray, n_jobs: int = 2) -> np.ndarray:\n",
        "    \"\"\"\n",
        "    Predict class probabilities of input data using a single decision tree.\n",
        "\n",
        "    :param n_jobs: the number of parallel jobs to run\n",
        "    :param X: array-like of shape (n_samples, n_features)\n",
        "        The input data.\n",
        "\n",
        "    :return: np.ndarray\n",
        "        Array of predicted probabilities.\n",
        "    \"\"\"\n",
        "    # y_pred_storage: List[np.ndarray] = []\n",
        "\n",
        "    with Pool(n_jobs) as pool:\n",
        "      y_pred_storage = pool.starmap(self._pred_maker, [(feats, tree, X) for feats, tree in zip(self.feat_ids_by_tree, self.trees)])\n",
        "\n",
        "    return np.average(y_pred_storage, axis=0)\n",
        "    \n",
        "  def predict(self, X: np.ndarray, n_jobs: int = 1) -> np.ndarray:\n",
        "    \"\"\"\n",
        "    Predict class probabilities of input data using a single decision tree.\n",
        "\n",
        "    :param n_jobs: the number of parallel jobs to run\n",
        "    :param X: array-like of shape (n_samples, n_features)\n",
        "        The input data.\n",
        "\n",
        "    :return: np.ndarray\n",
        "        Array of the most likely outcome.\n",
        "    \"\"\"\n",
        "    probas = self.predict_proba(X, n_jobs=n_jobs)\n",
        "    predictions = np.argmax(probas, axis=1)\n",
        "  \n",
        "    return predictions\n",
        "\n",
        "\n",
        "X, y = make_classification(n_samples=100000)"
      ]
    },
    {
      "cell_type": "code",
      "execution_count": 4,
      "id": "5eecd633-1ae5-49fb-8cd0-4fd4ec1d6c24",
      "metadata": {
        "id": "5eecd633-1ae5-49fb-8cd0-4fd4ec1d6c24"
      },
      "outputs": [],
      "source": [
        "random_forest = RandomForestClassifierCustom(max_depth=30, n_estimators=10, max_features=2, random_state=42)"
      ]
    },
    {
      "cell_type": "code",
      "source": [
        "%%time\n",
        "\n",
        "_ = random_forest.fit(X, y, n_jobs=1)"
      ],
      "metadata": {
        "colab": {
          "base_uri": "https://localhost:8080/"
        },
        "id": "r2UqQj99BuRK",
        "outputId": "294618c2-33d2-4dfb-9656-12cbdacc87d0"
      },
      "id": "r2UqQj99BuRK",
      "execution_count": 5,
      "outputs": [
        {
          "output_type": "stream",
          "name": "stdout",
          "text": [
            "CPU times: user 11.3 s, sys: 118 ms, total: 11.4 s\n",
            "Wall time: 21.5 s\n"
          ]
        }
      ]
    },
    {
      "cell_type": "code",
      "execution_count": 6,
      "id": "04e62ac4-91d0-4cac-9de9-b4be0b582e7b",
      "metadata": {
        "colab": {
          "base_uri": "https://localhost:8080/"
        },
        "id": "04e62ac4-91d0-4cac-9de9-b4be0b582e7b",
        "outputId": "4101b9f6-c3e5-4256-8d6d-29438f56d38e"
      },
      "outputs": [
        {
          "output_type": "stream",
          "name": "stdout",
          "text": [
            "CPU times: user 524 ms, sys: 372 ms, total: 896 ms\n",
            "Wall time: 1.22 s\n"
          ]
        }
      ],
      "source": [
        "%%time\n",
        "\n",
        "preds_1 = random_forest.predict(X, n_jobs=1)"
      ]
    },
    {
      "cell_type": "code",
      "execution_count": 7,
      "id": "a4696384-b02b-4195-8ca7-60ae55aed197",
      "metadata": {
        "id": "a4696384-b02b-4195-8ca7-60ae55aed197"
      },
      "outputs": [],
      "source": [
        "random_forest = RandomForestClassifierCustom(max_depth=30, n_estimators=10, max_features=2, random_state=42)"
      ]
    },
    {
      "cell_type": "code",
      "execution_count": 8,
      "id": "9f14517f-7a80-4219-aff6-90097b59b085",
      "metadata": {
        "id": "9f14517f-7a80-4219-aff6-90097b59b085",
        "colab": {
          "base_uri": "https://localhost:8080/"
        },
        "outputId": "84526226-f3da-4d9d-9f25-2b097ebb5894"
      },
      "outputs": [
        {
          "output_type": "stream",
          "name": "stdout",
          "text": [
            "CPU times: user 210 ms, sys: 99.2 ms, total: 309 ms\n",
            "Wall time: 9.75 s\n"
          ]
        }
      ],
      "source": [
        "%%time\n",
        "\n",
        "_ = random_forest.fit(X, y, n_jobs=2)"
      ]
    },
    {
      "cell_type": "code",
      "execution_count": 9,
      "id": "c7f01f97-4ad4-4bed-a977-c8bd3ae962fd",
      "metadata": {
        "id": "c7f01f97-4ad4-4bed-a977-c8bd3ae962fd",
        "colab": {
          "base_uri": "https://localhost:8080/"
        },
        "outputId": "c16a9fb8-80ee-4761-fb74-c595d9e7a1f3"
      },
      "outputs": [
        {
          "output_type": "stream",
          "name": "stdout",
          "text": [
            "CPU times: user 206 ms, sys: 235 ms, total: 442 ms\n",
            "Wall time: 848 ms\n"
          ]
        }
      ],
      "source": [
        "%%time\n",
        "\n",
        "preds_2 = random_forest.predict(X, n_jobs=2)"
      ]
    },
    {
      "cell_type": "code",
      "execution_count": 10,
      "id": "547ba1fd-9535-4267-93f8-3cc927f71e03",
      "metadata": {
        "id": "547ba1fd-9535-4267-93f8-3cc927f71e03",
        "colab": {
          "base_uri": "https://localhost:8080/"
        },
        "outputId": "00f9649c-d036-421d-aa90-6a0f67c705ad"
      },
      "outputs": [
        {
          "output_type": "execute_result",
          "data": {
            "text/plain": [
              "True"
            ]
          },
          "metadata": {},
          "execution_count": 10
        }
      ],
      "source": [
        "(preds_1 == preds_2).all()   # Количество worker'ов не должно влиять на предсказания"
      ]
    },
    {
      "cell_type": "markdown",
      "id": "0a2ea6af-f73d-436a-94d9-f7310ac9a4e6",
      "metadata": {
        "id": "0a2ea6af-f73d-436a-94d9-f7310ac9a4e6"
      },
      "source": [
        "#### Какие есть недостатки у вашей реализации параллельного Random Forest (если они есть)? Как это можно исправить? Опишите словами, можно без кода (+1 дополнительный балл)"
      ]
    },
    {
      "cell_type": "markdown",
      "id": "19f2f04d-2c35-4d7d-a8fe-7f88d538fb79",
      "metadata": {
        "id": "19f2f04d-2c35-4d7d-a8fe-7f88d538fb79"
      },
      "source": [
        "**Ответ пишите тут**: \n",
        "\n",
        "*   для предикта нет заметного убыстрения\n",
        "*   ещё любопытное замечание: то как предлагает чат гпт (через `from joblib import Parallel, delayed`) в 3 раза быстрее того, что Рома предлагал (`from multiprocessing import Pool`)\n",
        "*   НО оно всё не сравниться с \"диким\" воплощением, которое на ПОРЯДОК БЫСТРЕЕ\n",
        "\n"
      ]
    },
    {
      "cell_type": "markdown",
      "source": [
        "**Why could implementation without parallel programming be way faster?**\n",
        "\n",
        "Implementation without parallel programming could be faster in some cases because parallel programming adds overhead due to the need for communication and coordination between parallel processes. Additionally, some algorithms may not be well-suited for parallelization, either because they involve a lot of synchronization between parallel processes or because they have a lot of dependencies between individual computations, which can lead to a lot of waiting and idle time for some processes. Therefore, for small or simple tasks, the overhead of parallel programming may outweigh any potential speedup, resulting in slower overall performance. It's important to carefully consider the task at hand and the characteristics of the hardware before deciding whether to use parallel programming or not."
      ],
      "metadata": {
        "id": "zJROQoD4hu3H"
      },
      "id": "zJROQoD4hu3H"
    },
    {
      "cell_type": "markdown",
      "id": "f020bb22-a29e-4e39-aba9-d41e79a80732",
      "metadata": {
        "id": "f020bb22-a29e-4e39-aba9-d41e79a80732"
      },
      "source": [
        "# Задание 2 (9 баллов)"
      ]
    },
    {
      "cell_type": "markdown",
      "id": "e3a8a0d2-f35b-4edb-9fb3-61da119255e9",
      "metadata": {
        "id": "e3a8a0d2-f35b-4edb-9fb3-61da119255e9"
      },
      "source": [
        "Напишите декоратор `memory_limit`, который позволит ограничивать использование памяти декорируемой функцией.\n",
        "\n",
        "Декоратор должен принимать следующие аргументы:\n",
        "1. `soft_limit` - \"мягкий\" лимит использования памяти. При превышении функцией этого лимита должен будет отображён **warning**\n",
        "2. `hard_limit` - \"жёсткий\" лимит использования памяти. При превышении функцией этого лимита должно будет брошено исключение, а функция должна немедленно завершить свою работу\n",
        "3. `poll_interval` - интервал времени (в секундах) между проверками использования памяти\n",
        "\n",
        "Требования:\n",
        "1. Потребление функцией памяти должно отслеживаться **во время выполнения функции**, а не после её завершения\n",
        "2. **warning** при превышении `soft_limit` должен отображаться один раз, даже если функция переходила через этот лимит несколько раз\n",
        "3. Если задать `soft_limit` или `hard_limit` как `None`, то соответствующий лимит должен быть отключён\n",
        "4. Лимиты должны передаваться и отображаться в формате `<number>X`, где `X` - символ, обозначающий порядок единицы измерения памяти (\"B\", \"K\", \"M\", \"G\", \"T\", ...)\n",
        "5. В тексте warning'ов и исключений должен быть указан текщий объём используемой памяти и величина превышенного лимита\n",
        "\n",
        "В задании можно использовать только модули из **стандартной библиотеки** питона, можно писать вспомогательные функции и/или классы\n",
        "\n",
        "В коде ниже для вас предопределены некоторые полезные функции, вы можете ими пользоваться, а можете не пользоваться"
      ]
    },
    {
      "cell_type": "code",
      "source": [
        "import os\n",
        "import psutil\n",
        "import time\n",
        "import warnings\n",
        "import threading\n",
        "\n",
        "from typing import Optional, Callable\n",
        "\n",
        "def get_memory_usage() -> int:\n",
        "    \"\"\"\n",
        "    Returns the current memory usage of the process in bytes.\n",
        "\n",
        "    Returns:\n",
        "        int: Current memory usage of the process in bytes.\n",
        "    \"\"\"\n",
        "    process = psutil.Process(os.getpid())\n",
        "    mem_info = process.memory_info()\n",
        "    return mem_info.rss\n",
        "\n",
        "def bytes_to_human_readable(n_bytes: int) -> str:\n",
        "    \"\"\"\n",
        "    Converts a byte count to a human-readable string.\n",
        "\n",
        "    Args:\n",
        "        n_bytes (int): Number of bytes to convert.\n",
        "\n",
        "    Returns:\n",
        "        str: A string representing the input bytes count in human-readable format.\n",
        "    \"\"\"\n",
        "    symbols = ('K', 'M', 'G', 'T', 'P', 'E', 'Z', 'Y')\n",
        "    prefix = {}\n",
        "    for idx, s in enumerate(symbols):\n",
        "        prefix[s] = 1 << (idx + 1) * 10\n",
        "    for s in reversed(symbols):\n",
        "        if n_bytes >= prefix[s]:\n",
        "            value = float(n_bytes) / prefix[s]\n",
        "            return f\"{value:.2f}{s}\"\n",
        "    return f\"{n_bytes}B\"\n",
        "\n",
        "def human_to_bytes_readable(human_size: str) -> float:\n",
        "    \"\"\"\n",
        "    Converts a human-readable byte count to an integer.\n",
        "\n",
        "    Args:\n",
        "        human_size (str): A string representing the byte count in human-readable format.\n",
        "\n",
        "    Returns:\n",
        "        float: The equivalent byte count as a floating point number.\n",
        "    \"\"\"\n",
        "    symbols = ('B', 'K', 'M', 'G', 'T', 'P', 'E', 'Z', 'Y')\n",
        "    prefix = {}\n",
        "    for idx, s in enumerate(symbols):\n",
        "      prefix[s] = 1 << (idx) * 10\n",
        "\n",
        "    return float(human_size[:-1]) * prefix[human_size[-1]]"
      ],
      "metadata": {
        "id": "AFM1sA9biBX5"
      },
      "id": "AFM1sA9biBX5",
      "execution_count": 11,
      "outputs": []
    },
    {
      "cell_type": "code",
      "source": [
        "def memory_limit(hard_limit: Optional[str] = None, \n",
        "                 soft_limit: Optional[str] = None,\n",
        "                 poll_interval: Optional[float] = None) -> Callable:\n",
        "  \"\"\"\n",
        "  A decorator that limits the memory usage of a function by crashing it if it exceeds the specified limits.\n",
        "\n",
        "  Args:\n",
        "      hard_limit: A string representing the maximum memory usage allowed by the function in human-readable format.\n",
        "          If None, the hard limit will be twice the current memory usage.\n",
        "      soft_limit: A string representing the memory usage threshold for a warning message in human-readable format.\n",
        "          If None, no warning will be issued.\n",
        "      poll_interval: The interval in seconds between memory usage checks.\n",
        "\n",
        "  Returns:\n",
        "      The decorated function.\n",
        "\n",
        "  Raises:\n",
        "      MemoryError: If the memory usage exceeds the hard limit.\n",
        "  \"\"\" \n",
        "  def decorator(func: Callable):\n",
        "    def wrapper(*args, **kwargs):\n",
        "      def check_memory_usage(hard_limit: Optional[str] = hard_limit, \n",
        "                             soft_limit: Optional[str] =soft_limit, \n",
        "                             poll_interval: Optional[float] = poll_interval) -> None:\n",
        "        \"\"\"\n",
        "        Check the memory usage of the current process periodically and raise an error when the hard memory limit is exceeded.\n",
        "        \n",
        "        :param hard_limit: A string representing the hard memory limit, e.g. \"1G\".\n",
        "                          If not provided, it defaults to 2 times the current memory usage.\n",
        "        :param soft_limit: A string representing the soft memory limit, e.g. \"500M\".\n",
        "                          If provided, a warning is issued when the memory usage exceeds this limit.\n",
        "        :param poll_interval: The time interval between memory usage checks, in seconds.\n",
        "                              If not provided, it defaults to 1 second.\n",
        "        \"\"\"\n",
        "        print('check starts \\n')\n",
        "        flag = True\n",
        "\n",
        "        if hard_limit:\n",
        "          hard_lim_set = human_to_bytes_readable(hard_limit)\n",
        "        else: \n",
        "          hard_lim_set = 2 * get_memory_usage()\n",
        "\n",
        "        while get_memory_usage() < hard_lim_set:\n",
        "            time.sleep(poll_interval)\n",
        "\n",
        "            if flag and soft_limit:\n",
        "              if get_memory_usage() > human_to_bytes_readable(soft_limit):\n",
        "                now = bytes_to_human_readable(get_memory_usage())\n",
        "                warnings.warn(f'Warning: the soft memory limit of {soft_limit} is exceeded: the current memory usage is {now}')\n",
        "                flag = False\n",
        "\n",
        "            if not hard_limit:\n",
        "              hard_lim_set = 2 * get_memory_usage()\n",
        "\n",
        "        now = bytes_to_human_readable(get_memory_usage())\n",
        "        print(f'\\nThe hard memory limit of {hard_limit} is exceeded: the current memory usage is {now}')\n",
        "        print('The session will be crashed in 0.3 seconds....')\n",
        "\n",
        "        time.sleep(0.3)\n",
        "        # raise MemoryError('Memory usage exceeded limit')\n",
        "        os._exit(1)\n",
        "\n",
        "      thread = threading.Thread(target=check_memory_usage)\n",
        "      thread.start()\n",
        "\n",
        "      result = func(*args, **kwargs)\n",
        "\n",
        "      thread.join()\n",
        "      print('the decorator is finished')\n",
        "\n",
        "      return result\n",
        "    return wrapper\n",
        "  return decorator"
      ],
      "metadata": {
        "id": "ZbH3SmVFVQYA"
      },
      "id": "ZbH3SmVFVQYA",
      "execution_count": 12,
      "outputs": []
    },
    {
      "cell_type": "code",
      "execution_count": null,
      "id": "e5466565-e46c-425e-a7bc-556a13633a0d",
      "metadata": {
        "colab": {
          "base_uri": "https://localhost:8080/"
        },
        "id": "e5466565-e46c-425e-a7bc-556a13633a0d",
        "outputId": "3437052b-b80a-4fbf-f971-86a280dae20b"
      },
      "outputs": [
        {
          "output_type": "stream",
          "name": "stdout",
          "text": [
            "check starts \n",
            "hehe i have started\n",
            "\n",
            "\n",
            "\n",
            "The hard memory limit of 1.2G is exceeded: the current memory usage is 1.20G\n",
            "The session will be crashed in 0.3 seconds....\n"
          ]
        }
      ],
      "source": [
        "@memory_limit(soft_limit=\"512M\", hard_limit=\"1.2G\", poll_interval=0.1)\n",
        "def memory_increment():\n",
        "    \"\"\"\n",
        "    Функция для тестирования\n",
        "    \n",
        "    В течение нескольких секунд достигает использования памяти 1.89G\n",
        "    Потребление памяти и скорость накопления можно варьировать, изменяя код\n",
        "    \"\"\"\n",
        "    print('hehe i have started\\n')\n",
        "    lst = []\n",
        "    for i in range(40000000):\n",
        "        if i % 400000 == 0:\n",
        "            time.sleep(0.1)\n",
        "        lst.append(i)\n",
        "\n",
        "    print('hehe u sucks')\n",
        "    return lst\n",
        "\n",
        "a = memory_increment()\n",
        "a = None"
      ]
    },
    {
      "cell_type": "markdown",
      "id": "4bf0a185-3fd7-4d48-bfeb-cf6ce8b12893",
      "metadata": {
        "id": "4bf0a185-3fd7-4d48-bfeb-cf6ce8b12893"
      },
      "source": [
        "# Задание 3 (11 баллов)"
      ]
    },
    {
      "cell_type": "markdown",
      "id": "77eec6f5-3d52-43fc-b241-9114eb9c813c",
      "metadata": {
        "id": "77eec6f5-3d52-43fc-b241-9114eb9c813c"
      },
      "source": [
        "Напишите функцию `parallel_map`. Это должна быть **универсальная** функция для распараллеливания, которая эффективно работает в любых условиях.\n",
        "\n",
        "Функция должна принимать следующие аргументы:\n",
        "1. `target_func` - целевая функция (обязательный аргумент)\n",
        "2. `args_container` - контейнер с позиционными аргументами для `target_func` (по-умолчанию `None` - позиционные аргументы не передаются)\n",
        "3. `kwargs_container` - контейнер с именованными аргументами для `target_func` (по-умолчанию `None` - именованные аргументы не передаются)\n",
        "4. `n_jobs` - количество workers, которые будут использованы для выполнения (по-умолчанию `None` - количество логических ядер CPU в системе)\n",
        "\n",
        "Функция должна работать аналогично `***PoolExecutor.map`, применяя функцию к переданному набору аргументов, но с некоторыми дополнениями и улучшениями\n",
        "    \n",
        "Поскольку мы пишем **универсальную** функцию, то нам нужно будет выполнить ряд требований, чтобы она могла логично и эффективно работать в большинстве ситуаций\n",
        "\n",
        "1. `target_func` может принимать аргументы любого вида в любом количестве\n",
        "2. Любые типы данных в `args_container`, кроме `tuple`, передаются в `target_func` как единственный позиционный аргумент. `tuple` распаковываются в несколько аргументов\n",
        "3. Количество элементов в `args_container` должно совпадать с количеством элементов в `kwargs_container` и наоборот, также значение одного из них или обоих может быть равно `None`, в иных случаях должна кидаться ошибка (оба аргумента переданы, но размеры не совпадают)\n",
        "\n",
        "4. Функция должна выполнять определённое количество параллельных вызовов `target_func`, это количество зависит от числа переданных аргументов и значения `n_jobs`. Сценарии могут быть следующие\n",
        "    + `args_container=None`, `kwargs_container=None`, `n_jobs=None`. В таком случае функция `target_func` выполнится параллельно столько раз, сколько на вашем устройстве логических ядер CPU\n",
        "    + `args_container=None`, `kwargs_container=None`, `n_jobs=5`. В таком случае функция `target_func` выполнится параллельно **5** раз\n",
        "    + `args_container=[1, 2, 3]`, `kwargs_container=None`, `n_jobs=5`. В таком случае функция `target_func` выполнится параллельно **3** раза, несмотря на то, что `n_jobs=5` (так как есть всего 3 набора аргументов для которых нам нужно получить результат, а лишние worker'ы создавать не имеет смысла)\n",
        "    + `args_container=None`, `kwargs_container=[{\"s\": 1}, {\"s\": 2}, {\"s\": 3}]`, `n_jobs=5`. Данный случай аналогичен предыдущему, но здесь мы используем именованные аргументы\n",
        "    + `args_container=[1, 2, 3]`, `kwargs_container=[{\"s\": 1}, {\"s\": 2}, {\"s\": 3}]`, `n_jobs=5`. Данный случай аналогичен предыдущему, но здесь мы используем и позиционные, и именованные аргументы\n",
        "    + `args_container=[1, 2, 3, 4]`, `kwargs_container=None`, `n_jobs=2`. В таком случае в каждый момент времени параллельно будет выполняться **не более 2** функций `target_func`, так как нам нужно выполнить её 4 раза, но у нас есть только 2 worker'а.\n",
        "    + В подобных случаях (из примера выше) должно оптимизироваться время выполнения. Если эти 4 вызова выполняются за 5, 1, 2 и 1 секунды, то параллельное выполнение с `n_jobs=2` должно занять **5 секунд** (не 7 и тем более не 10)\n",
        "\n",
        "5. `parallel_map` возвращает результаты выполнения `target_func` **в том же порядке**, в котором были переданы соответствующие аргументы\n",
        "6. Работает с функциями, созданными внутри других функций\n",
        "\n",
        "Для базового решения от вас не ожидается **сверххорошая** оптимизация по времени и памяти для всех возможных случаев. Однако за хорошо оптимизированную логику работы можно получить до **+3 дополнительных баллов**\n",
        "\n",
        "Вы можете сделать класс вместо функции, если вам удобнее\n",
        "\n",
        "В задании можно использовать только модули из **стандартной библиотеки** питона\n",
        "\n",
        "Ниже приведены тестовые примеры по каждому из требований"
      ]
    },
    {
      "cell_type": "code",
      "execution_count": 1,
      "id": "a917005b-bc1e-4229-9eef-d33bfe7050c2",
      "metadata": {
        "id": "a917005b-bc1e-4229-9eef-d33bfe7050c2"
      },
      "outputs": [],
      "source": [
        "import multiprocessing\n",
        "from typing import Any, Callable, Dict, Iterable, List, Tuple\n",
        "\n",
        "\n",
        "def parallel_map(target_func: Callable[..., Any],\n",
        "                 args_container: List[Iterable] = None,\n",
        "                 kwargs_container: List[Dict[str, Any]] = None,\n",
        "                 n_jobs: int = None) -> Iterable[Tuple[Iterable, Dict[str, Any], Any]]:\n",
        "    \"\"\"\n",
        "    Applies a function to a list of arguments in parallel using multiple processes.\n",
        "\n",
        "    Args:\n",
        "        target_func (Callable): The function to be applied in parallel.\n",
        "        args_container (List[Iterable], optional): A list of argument iterables to be passed to the function.\n",
        "            Defaults to None.\n",
        "        kwargs_container (List[Dict[str, Any]], optional): A list of keyword argument dictionaries to be passed to\n",
        "            the function. Defaults to None.\n",
        "        n_jobs (int, optional): The number of parallel processes to use. Defaults to None, which means that\n",
        "            the number of processes used will be equal to the number of available CPU cores.\n",
        "\n",
        "    Returns:\n",
        "        An iterable of tuples containing the input arguments, keyword arguments, and results of applying the function.\n",
        "\n",
        "    Raises:\n",
        "        ValueError: If the lengths of `args_container` and `kwargs_container` do not match.\n",
        "\n",
        "    \"\"\"\n",
        "  \n",
        "    n_jobs = (multiprocessing.cpu_count(), n_jobs)[int(bool(n_jobs))]\n",
        "\n",
        "    if args_container or kwargs_container:\n",
        "      if args_container is None:\n",
        "          args_container = [()] * len(kwargs_container)\n",
        "      if kwargs_container is None:\n",
        "          kwargs_container = [{}] * len(args_container)\n",
        "\n",
        "      if len(args_container) != len(kwargs_container):\n",
        "          raise ValueError(\"Lengths of args_container and kwargs_container do not match\")\n",
        "\n",
        "    print('lengths checked')\n",
        "\n",
        "    task_queue = multiprocessing.Queue()\n",
        "\n",
        "    print('queue made')\n",
        "\n",
        "    if args_container or kwargs_container:\n",
        "      for args, kwargs in zip(args_container, kwargs_container):\n",
        "        task_queue.put((target_func, args, kwargs))\n",
        "    else:\n",
        "      task_queue.put(target_func)\n",
        "\n",
        "    print('args, kwargs sorted')\n",
        "\n",
        "    def run_task(task: Tuple[Callable[..., Any], Iterable, \n",
        "                             Dict[str, Any]]) -> Tuple[Iterable, Dict[str, Any], Any]:\n",
        "      target_func, args, kwargs = task\n",
        "      return args, kwargs, target_func(*args, **kwargs)\n",
        "\n",
        "    with multiprocessing.Pool(n_jobs) as pool:\n",
        "        results = pool.imap_unordered(run_task, task_queue)\n",
        "\n",
        "    print('multiprocessing done')\n",
        "\n",
        "    return results"
      ]
    },
    {
      "cell_type": "code",
      "execution_count": 2,
      "id": "0f41b1c8-0d26-483e-8114-1e7638006e34",
      "metadata": {
        "id": "0f41b1c8-0d26-483e-8114-1e7638006e34"
      },
      "outputs": [],
      "source": [
        "import time\n",
        "from typing import Union\n",
        "\n",
        "# Это только один пример тестовой функции, ваша parallel_map должна уметь эффективно работать с ЛЮБЫМИ функциями\n",
        "# Поэтому обязательно протестируйте код на чём-нибудбь ещё\n",
        "def test_func(x: Union[int, float, complex] = 1, \n",
        "              s: Union[int, float, complex] = 2, \n",
        "              a: Union[int, float, complex] = 1, \n",
        "              b: Union[int, float, complex] = 1, \n",
        "              c: Union[int, float, complex] = 1):\n",
        "    time.sleep(s)\n",
        "    return a*x**2 + b*x + c"
      ]
    },
    {
      "cell_type": "code",
      "source": [
        "%%time\n",
        "\n",
        "test_func()"
      ],
      "metadata": {
        "colab": {
          "base_uri": "https://localhost:8080/"
        },
        "id": "OQ3kClZxOe0w",
        "outputId": "295c4a4b-85a8-4624-ea6b-ddf05f66ff79"
      },
      "id": "OQ3kClZxOe0w",
      "execution_count": 3,
      "outputs": [
        {
          "output_type": "stream",
          "name": "stdout",
          "text": [
            "CPU times: user 11.6 ms, sys: 3.9 ms, total: 15.5 ms\n",
            "Wall time: 2 s\n"
          ]
        },
        {
          "output_type": "execute_result",
          "data": {
            "text/plain": [
              "3"
            ]
          },
          "metadata": {},
          "execution_count": 3
        }
      ]
    },
    {
      "cell_type": "code",
      "execution_count": 4,
      "id": "54d48c99-6e8a-4990-8944-e5da424efdbd",
      "metadata": {
        "id": "54d48c99-6e8a-4990-8944-e5da424efdbd",
        "colab": {
          "base_uri": "https://localhost:8080/"
        },
        "outputId": "a3173bdb-4baa-45a0-a271-c149437df1ef"
      },
      "outputs": [
        {
          "output_type": "stream",
          "name": "stdout",
          "text": [
            "lengths checked\n",
            "queue made\n",
            "args, kwargs sorted\n",
            "multiprocessing done\n",
            "CPU times: user 22.3 ms, sys: 12.4 ms, total: 34.7 ms\n",
            "Wall time: 91.8 ms\n"
          ]
        }
      ],
      "source": [
        "%%time\n",
        "\n",
        "# Пример 2.1\n",
        "# Отдельные значения в args_container передаются в качестве позиционных аргументов\n",
        "a = parallel_map(test_func, args_container=[1, 2.0, 3j-1, 4])   # Здесь происходят параллельные вызовы: test_func(1) test_func(2.0) test_func(3j-1) test_func(4)"
      ]
    },
    {
      "cell_type": "code",
      "execution_count": 5,
      "id": "dd0da716-5bbf-4925-b87a-7efe82c51cf9",
      "metadata": {
        "id": "dd0da716-5bbf-4925-b87a-7efe82c51cf9",
        "colab": {
          "base_uri": "https://localhost:8080/"
        },
        "outputId": "ee6f1e28-d991-4306-b152-a450a37fa67e"
      },
      "outputs": [
        {
          "output_type": "stream",
          "name": "stdout",
          "text": [
            "lengths checked\n",
            "queue made\n",
            "args, kwargs sorted\n",
            "multiprocessing done\n",
            "CPU times: user 12.5 ms, sys: 16.1 ms, total: 28.6 ms\n",
            "Wall time: 92.4 ms\n"
          ]
        },
        {
          "output_type": "execute_result",
          "data": {
            "text/plain": [
              "<multiprocessing.pool.IMapUnorderedIterator at 0x7f62ec507790>"
            ]
          },
          "metadata": {},
          "execution_count": 5
        }
      ],
      "source": [
        "%%time\n",
        "\n",
        "# Пример 2.2\n",
        "# Элементы типа tuple в args_container распаковываются в качестве позиционных аргументов\n",
        "parallel_map(test_func, [(1, 1), (2.0, 2), (3j-1, 3), 4])    # Здесь происходят параллельные вызовы: test_func(1, 1) test_func(2.0, 2) test_func(3j-1, 3) test_func(4)"
      ]
    },
    {
      "cell_type": "code",
      "execution_count": 6,
      "id": "e2a0e6fd-1d92-4f06-9e4b-51290501c2da",
      "metadata": {
        "id": "e2a0e6fd-1d92-4f06-9e4b-51290501c2da",
        "colab": {
          "base_uri": "https://localhost:8080/"
        },
        "outputId": "2ea1e01e-13ab-417b-ecdf-8eb44ae79f94"
      },
      "outputs": [
        {
          "output_type": "stream",
          "name": "stdout",
          "text": [
            "lengths checked\n",
            "queue made\n",
            "args, kwargs sorted\n",
            "multiprocessing done\n",
            "CPU times: user 12.3 ms, sys: 14.1 ms, total: 26.3 ms\n",
            "Wall time: 120 ms\n"
          ]
        },
        {
          "output_type": "execute_result",
          "data": {
            "text/plain": [
              "<multiprocessing.pool.IMapUnorderedIterator at 0x7f62ec534bb0>"
            ]
          },
          "metadata": {},
          "execution_count": 6
        }
      ],
      "source": [
        "%%time\n",
        "\n",
        "# Пример 3.1\n",
        "# Возможна одновременная передача args_container и kwargs_container, но количества элементов в них должны быть равны\n",
        "parallel_map(test_func,\n",
        "             args_container=[1, 2, 3, 4],\n",
        "             kwargs_container=[{\"s\": 3}, {\"s\": 3}, {\"s\": 3}, {\"s\": 3}])\n",
        "\n",
        "# Здесь происходят параллельные вызовы: test_func(1, s=3) test_func(2, s=3) test_func(3, s=3) test_func(4, s=3)"
      ]
    },
    {
      "cell_type": "code",
      "execution_count": 7,
      "id": "34cda7e6-b24a-4564-958f-c4cf20b7ed7c",
      "metadata": {
        "id": "34cda7e6-b24a-4564-958f-c4cf20b7ed7c",
        "colab": {
          "base_uri": "https://localhost:8080/"
        },
        "outputId": "ddd33e70-1b43-49f2-b04a-de686d6cc5dd"
      },
      "outputs": [
        {
          "output_type": "stream",
          "name": "stdout",
          "text": [
            "lengths checked\n",
            "queue made\n",
            "args, kwargs sorted\n",
            "multiprocessing done\n",
            "CPU times: user 11.9 ms, sys: 14.7 ms, total: 26.6 ms\n",
            "Wall time: 116 ms\n"
          ]
        },
        {
          "output_type": "execute_result",
          "data": {
            "text/plain": [
              "<multiprocessing.pool.IMapUnorderedIterator at 0x7f62ec535c30>"
            ]
          },
          "metadata": {},
          "execution_count": 7
        }
      ],
      "source": [
        "%%time\n",
        "\n",
        "# Пример 3.2\n",
        "# args_container может быть None, а kwargs_container задан явно\n",
        "parallel_map(test_func,\n",
        "             kwargs_container=[{\"s\": 3}, {\"s\": 3}, {\"s\": 3}, {\"s\": 3}])"
      ]
    },
    {
      "cell_type": "code",
      "execution_count": 8,
      "id": "e75853e1-1ed8-43c5-b045-e30dd34a9f34",
      "metadata": {
        "id": "e75853e1-1ed8-43c5-b045-e30dd34a9f34",
        "colab": {
          "base_uri": "https://localhost:8080/"
        },
        "outputId": "397cc274-70e9-4965-e6f4-513ad474eeeb"
      },
      "outputs": [
        {
          "output_type": "stream",
          "name": "stdout",
          "text": [
            "lengths checked\n",
            "queue made\n",
            "args, kwargs sorted\n",
            "multiprocessing done\n",
            "CPU times: user 6.58 ms, sys: 16 ms, total: 22.6 ms\n",
            "Wall time: 53.6 ms\n"
          ]
        },
        {
          "output_type": "execute_result",
          "data": {
            "text/plain": [
              "<multiprocessing.pool.IMapUnorderedIterator at 0x7f62ec536e60>"
            ]
          },
          "metadata": {},
          "execution_count": 8
        }
      ],
      "source": [
        "%%time\n",
        "\n",
        "# Пример 3.3\n",
        "# kwargs_container может быть None, а args_container задан явно\n",
        "parallel_map(test_func,\n",
        "             args_container=[1, 2, 3, 4])"
      ]
    },
    {
      "cell_type": "code",
      "execution_count": 9,
      "id": "55bd628f-0456-4b3f-8cea-ccbfc0e0dd72",
      "metadata": {
        "id": "55bd628f-0456-4b3f-8cea-ccbfc0e0dd72",
        "colab": {
          "base_uri": "https://localhost:8080/"
        },
        "outputId": "35e8d09c-4ce0-4546-eb83-6130ccceac56"
      },
      "outputs": [
        {
          "output_type": "stream",
          "name": "stdout",
          "text": [
            "lengths checked\n",
            "queue made\n",
            "args, kwargs sorted\n",
            "multiprocessing done\n",
            "CPU times: user 13.1 ms, sys: 10.8 ms, total: 23.9 ms\n",
            "Wall time: 47.2 ms\n"
          ]
        },
        {
          "output_type": "execute_result",
          "data": {
            "text/plain": [
              "<multiprocessing.pool.IMapUnorderedIterator at 0x7f62ec537910>"
            ]
          },
          "metadata": {},
          "execution_count": 9
        }
      ],
      "source": [
        "%%time\n",
        "\n",
        "# Пример 3.4\n",
        "# И kwargs_container, и args_container могут быть не заданы\n",
        "parallel_map(test_func)"
      ]
    },
    {
      "cell_type": "code",
      "execution_count": 10,
      "id": "2aa43efd-6628-46e3-970a-018be26fef3f",
      "metadata": {
        "id": "2aa43efd-6628-46e3-970a-018be26fef3f",
        "colab": {
          "base_uri": "https://localhost:8080/"
        },
        "outputId": "502b0a90-9ba6-4dd0-dff6-cea8c3133020"
      },
      "outputs": [
        {
          "output_type": "stream",
          "name": "stdout",
          "text": [
            "lengths checked\n",
            "queue made\n",
            "args, kwargs sorted\n",
            "multiprocessing done\n",
            "CPU times: user 18.9 ms, sys: 15.7 ms, total: 34.6 ms\n",
            "Wall time: 111 ms\n"
          ]
        },
        {
          "output_type": "execute_result",
          "data": {
            "text/plain": [
              "<multiprocessing.pool.IMapUnorderedIterator at 0x7f62ec544670>"
            ]
          },
          "metadata": {},
          "execution_count": 10
        }
      ],
      "source": [
        "%%time\n",
        "\n",
        "# Пример 3.4\n",
        "# И kwargs_container, и args_container могут быть не заданы\n",
        "parallel_map(test_func)"
      ]
    },
    {
      "cell_type": "code",
      "execution_count": 11,
      "id": "bcdf8016-8363-4876-b05d-d1b536261f01",
      "metadata": {
        "id": "bcdf8016-8363-4876-b05d-d1b536261f01",
        "colab": {
          "base_uri": "https://localhost:8080/",
          "height": 257
        },
        "outputId": "eb19ac15-859c-40c7-f325-598d0b7b72bb"
      },
      "outputs": [
        {
          "output_type": "error",
          "ename": "ValueError",
          "evalue": "ignored",
          "traceback": [
            "\u001b[0;31m---------------------------------------------------------------------------\u001b[0m",
            "\u001b[0;31mValueError\u001b[0m                                Traceback (most recent call last)",
            "\u001b[0;32m<timed eval>\u001b[0m in \u001b[0;36m<module>\u001b[0;34m\u001b[0m\n",
            "\u001b[0;32m<ipython-input-1-5d9ab9333b28>\u001b[0m in \u001b[0;36mparallel_map\u001b[0;34m(target_func, args_container, kwargs_container, n_jobs)\u001b[0m\n\u001b[1;32m     36\u001b[0m \u001b[0;34m\u001b[0m\u001b[0m\n\u001b[1;32m     37\u001b[0m       \u001b[0;32mif\u001b[0m \u001b[0mlen\u001b[0m\u001b[0;34m(\u001b[0m\u001b[0margs_container\u001b[0m\u001b[0;34m)\u001b[0m \u001b[0;34m!=\u001b[0m \u001b[0mlen\u001b[0m\u001b[0;34m(\u001b[0m\u001b[0mkwargs_container\u001b[0m\u001b[0;34m)\u001b[0m\u001b[0;34m:\u001b[0m\u001b[0;34m\u001b[0m\u001b[0;34m\u001b[0m\u001b[0m\n\u001b[0;32m---> 38\u001b[0;31m           \u001b[0;32mraise\u001b[0m \u001b[0mValueError\u001b[0m\u001b[0;34m(\u001b[0m\u001b[0;34m\"Lengths of args_container and kwargs_container do not match\"\u001b[0m\u001b[0;34m)\u001b[0m\u001b[0;34m\u001b[0m\u001b[0;34m\u001b[0m\u001b[0m\n\u001b[0m\u001b[1;32m     39\u001b[0m \u001b[0;34m\u001b[0m\u001b[0m\n\u001b[1;32m     40\u001b[0m     \u001b[0mprint\u001b[0m\u001b[0;34m(\u001b[0m\u001b[0;34m'lengths checked'\u001b[0m\u001b[0;34m)\u001b[0m\u001b[0;34m\u001b[0m\u001b[0;34m\u001b[0m\u001b[0m\n",
            "\u001b[0;31mValueError\u001b[0m: Lengths of args_container and kwargs_container do not match"
          ]
        }
      ],
      "source": [
        "%%time\n",
        "\n",
        "# Пример 3.5\n",
        "# При несовпадении количеств позиционных и именованных аргументов кидается ошибка\n",
        "parallel_map(test_func,\n",
        "             args_container=[1, 2, 3, 4],\n",
        "             kwargs_container=[{\"s\": 3}, {\"s\": 3}, {\"s\": 3}])"
      ]
    },
    {
      "cell_type": "code",
      "execution_count": 12,
      "id": "115e5fea-0692-424e-acb5-e2d97391bad5",
      "metadata": {
        "id": "115e5fea-0692-424e-acb5-e2d97391bad5",
        "colab": {
          "base_uri": "https://localhost:8080/"
        },
        "outputId": "8e20acf1-afb3-463f-94d2-5764654664d6"
      },
      "outputs": [
        {
          "output_type": "stream",
          "name": "stdout",
          "text": [
            "lengths checked\n",
            "queue made\n",
            "args, kwargs sorted\n",
            "multiprocessing done\n",
            "CPU times: user 13.1 ms, sys: 13 ms, total: 26.2 ms\n",
            "Wall time: 68 ms\n"
          ]
        },
        {
          "output_type": "execute_result",
          "data": {
            "text/plain": [
              "<multiprocessing.pool.IMapUnorderedIterator at 0x7f62ec545f30>"
            ]
          },
          "metadata": {},
          "execution_count": 12
        }
      ],
      "source": [
        "%%time\n",
        "\n",
        "# Пример 4.1\n",
        "# Если функция не имеет обязательных аргументов и аргумент n_jobs не был передан, то она выполняется параллельно столько раз, сколько ваш CPU имеет логических ядер\n",
        "# В моём случае это 24, у вас может быть больше или меньше\n",
        "parallel_map(test_func)"
      ]
    },
    {
      "cell_type": "code",
      "execution_count": 13,
      "id": "212fcdbe-a9f3-4eba-8d3f-7da0b853bffd",
      "metadata": {
        "id": "212fcdbe-a9f3-4eba-8d3f-7da0b853bffd",
        "colab": {
          "base_uri": "https://localhost:8080/"
        },
        "outputId": "cbf3ce7e-47cc-4264-e296-2be068d3f36b"
      },
      "outputs": [
        {
          "output_type": "stream",
          "name": "stdout",
          "text": [
            "lengths checked\n",
            "queue made\n",
            "args, kwargs sorted\n",
            "multiprocessing done\n",
            "CPU times: user 12.4 ms, sys: 18.8 ms, total: 31.2 ms\n",
            "Wall time: 94.2 ms\n"
          ]
        },
        {
          "output_type": "execute_result",
          "data": {
            "text/plain": [
              "<multiprocessing.pool.IMapUnorderedIterator at 0x7f62ec5474f0>"
            ]
          },
          "metadata": {},
          "execution_count": 13
        }
      ],
      "source": [
        "%%time\n",
        "\n",
        "# Пример 4.2\n",
        "# Если функция не имеет обязательных аргументов и передан только аргумент n_jobs, то она выполняется параллельно n_jobs раз\n",
        "parallel_map(test_func, n_jobs=2)"
      ]
    },
    {
      "cell_type": "code",
      "execution_count": 14,
      "id": "202675af-11b9-485c-baa4-cc1ef8eb919d",
      "metadata": {
        "id": "202675af-11b9-485c-baa4-cc1ef8eb919d",
        "colab": {
          "base_uri": "https://localhost:8080/"
        },
        "outputId": "1d7b4c11-721b-4e4a-d382-60f61ce1259c"
      },
      "outputs": [
        {
          "output_type": "stream",
          "name": "stdout",
          "text": [
            "lengths checked\n",
            "queue made\n",
            "args, kwargs sorted\n",
            "multiprocessing done\n",
            "CPU times: user 20.2 ms, sys: 32.4 ms, total: 52.5 ms\n",
            "Wall time: 164 ms\n"
          ]
        },
        {
          "output_type": "execute_result",
          "data": {
            "text/plain": [
              "<multiprocessing.pool.IMapUnorderedIterator at 0x7f62ec5acc10>"
            ]
          },
          "metadata": {},
          "execution_count": 14
        }
      ],
      "source": [
        "%%time\n",
        "\n",
        "# Пример 4.3\n",
        "# Если аргументов для target_func указано МЕНЬШЕ, чем n_jobs, то используется такое же количество worker'ов, сколько было передано аргументов\n",
        "parallel_map(test_func,\n",
        "             args_container=[1, 2, 3],\n",
        "             n_jobs=5)   # Здесь используется 3 worker'a"
      ]
    },
    {
      "cell_type": "code",
      "execution_count": 15,
      "id": "a0952cde-c347-438a-ad0b-15e1218e5b6f",
      "metadata": {
        "id": "a0952cde-c347-438a-ad0b-15e1218e5b6f",
        "colab": {
          "base_uri": "https://localhost:8080/"
        },
        "outputId": "8ba5d9eb-9c95-4161-936f-25eaeaa0f83e"
      },
      "outputs": [
        {
          "output_type": "stream",
          "name": "stdout",
          "text": [
            "lengths checked\n",
            "queue made\n",
            "args, kwargs sorted\n",
            "multiprocessing done\n",
            "CPU times: user 15.9 ms, sys: 34.3 ms, total: 50.2 ms\n",
            "Wall time: 133 ms\n"
          ]
        },
        {
          "output_type": "execute_result",
          "data": {
            "text/plain": [
              "<multiprocessing.pool.IMapUnorderedIterator at 0x7f62ec5ae1d0>"
            ]
          },
          "metadata": {},
          "execution_count": 15
        }
      ],
      "source": [
        "%%time\n",
        "\n",
        "# Пример 4.4\n",
        "# Аналогичный предыдущему случай, но с именованными аргументами\n",
        "parallel_map(test_func,\n",
        "             kwargs_container=[{\"s\": 3}, {\"s\": 3}, {\"s\": 3}],\n",
        "             n_jobs=5)   # Здесь используется 3 worker'a"
      ]
    },
    {
      "cell_type": "code",
      "execution_count": 16,
      "id": "b2c7d286-6036-44b4-9686-d941297e9598",
      "metadata": {
        "id": "b2c7d286-6036-44b4-9686-d941297e9598",
        "colab": {
          "base_uri": "https://localhost:8080/"
        },
        "outputId": "27a55cc7-4346-4e5b-a7a1-977a61a280f3"
      },
      "outputs": [
        {
          "output_type": "stream",
          "name": "stdout",
          "text": [
            "lengths checked\n",
            "queue made\n",
            "args, kwargs sorted\n",
            "multiprocessing done\n",
            "CPU times: user 16.4 ms, sys: 32 ms, total: 48.5 ms\n",
            "Wall time: 153 ms\n"
          ]
        },
        {
          "output_type": "execute_result",
          "data": {
            "text/plain": [
              "<multiprocessing.pool.IMapUnorderedIterator at 0x7f62ec5af8e0>"
            ]
          },
          "metadata": {},
          "execution_count": 16
        }
      ],
      "source": [
        "%%time\n",
        "\n",
        "# Пример 4.5\n",
        "# Комбинация примеров 4.3 и 4.4 (переданы и позиционные и именованные аргументы)\n",
        "parallel_map(test_func,\n",
        "             args_container=[1, 2, 3],\n",
        "             kwargs_container=[{\"s\": 3}, {\"s\": 3}, {\"s\": 3}],\n",
        "             n_jobs=5)   # Здесь используется 3 worker'a"
      ]
    },
    {
      "cell_type": "code",
      "execution_count": 17,
      "id": "8b4649e2-a75b-4ede-8a46-32a0139fe998",
      "metadata": {
        "id": "8b4649e2-a75b-4ede-8a46-32a0139fe998",
        "colab": {
          "base_uri": "https://localhost:8080/"
        },
        "outputId": "a5ed75a0-c42b-407b-a07c-800d87e4a4b5"
      },
      "outputs": [
        {
          "output_type": "stream",
          "name": "stdout",
          "text": [
            "lengths checked\n",
            "queue made\n",
            "args, kwargs sorted\n",
            "multiprocessing done\n",
            "CPU times: user 12.5 ms, sys: 13.3 ms, total: 25.7 ms\n",
            "Wall time: 63.2 ms\n"
          ]
        },
        {
          "output_type": "execute_result",
          "data": {
            "text/plain": [
              "<multiprocessing.pool.IMapUnorderedIterator at 0x7f62ec5bc9a0>"
            ]
          },
          "metadata": {},
          "execution_count": 17
        }
      ],
      "source": [
        "%%time\n",
        "\n",
        "# Пример 4.6\n",
        "# Если аргументов для target_func указано БОЛЬШЕ, чем n_jobs, то используется n_jobs worker'ов\n",
        "parallel_map(test_func,\n",
        "             args_container=[1, 2, 3, 4],\n",
        "             kwargs_container=None,\n",
        "             n_jobs=2)   # Здесь используется 2 worker'a"
      ]
    },
    {
      "cell_type": "code",
      "execution_count": 18,
      "id": "627aa784-15b5-41ca-b232-73c88c5ebed9",
      "metadata": {
        "id": "627aa784-15b5-41ca-b232-73c88c5ebed9",
        "colab": {
          "base_uri": "https://localhost:8080/"
        },
        "outputId": "210cea15-2ff8-42eb-ad70-e202ae33b3c2"
      },
      "outputs": [
        {
          "output_type": "stream",
          "name": "stdout",
          "text": [
            "lengths checked\n",
            "queue made\n",
            "args, kwargs sorted\n",
            "multiprocessing done\n",
            "CPU times: user 7.59 ms, sys: 17.6 ms, total: 25.2 ms\n",
            "Wall time: 55.9 ms\n"
          ]
        },
        {
          "output_type": "execute_result",
          "data": {
            "text/plain": [
              "<multiprocessing.pool.IMapUnorderedIterator at 0x7f62ec5bdc60>"
            ]
          },
          "metadata": {},
          "execution_count": 18
        }
      ],
      "source": [
        "%%time\n",
        "\n",
        "# Пример 4.7\n",
        "# Время выполнения оптимизируется, данный код должен отрабатывать за 5 секунд\n",
        "parallel_map(test_func,\n",
        "             kwargs_container=[{\"s\": 5}, {\"s\": 1}, {\"s\": 2}, {\"s\": 1}],\n",
        "             n_jobs=2)"
      ]
    },
    {
      "cell_type": "code",
      "execution_count": 19,
      "id": "55bbfb49-4891-48c8-9cd7-782567b2a8fa",
      "metadata": {
        "id": "55bbfb49-4891-48c8-9cd7-782567b2a8fa",
        "colab": {
          "base_uri": "https://localhost:8080/"
        },
        "outputId": "7a4c97e8-9c5e-4a32-bcb8-c5b945a0d7af"
      },
      "outputs": [
        {
          "output_type": "stream",
          "name": "stdout",
          "text": [
            "lengths checked\n",
            "queue made\n",
            "args, kwargs sorted\n",
            "multiprocessing done\n"
          ]
        },
        {
          "output_type": "execute_result",
          "data": {
            "text/plain": [
              "<multiprocessing.pool.IMapUnorderedIterator at 0x7f62ec5bf4c0>"
            ]
          },
          "metadata": {},
          "execution_count": 19
        }
      ],
      "source": [
        "def test_func2(string, sleep_time=1):\n",
        "    time.sleep(sleep_time)\n",
        "    return string\n",
        "\n",
        "# Пример 5\n",
        "# Результаты возвращаются в том же порядке, в котором были переданы соответствующие аргументы вне зависимости от того, когда завершился worker\n",
        "arguments = [\"first\", \"second\", \"third\", \"fourth\", \"fifth\"]\n",
        "parallel_map(test_func2,\n",
        "             args_container=arguments,\n",
        "             kwargs_container=[{\"sleep_time\": 5}, {\"sleep_time\": 4}, {\"sleep_time\": 3}, {\"sleep_time\": 2}, {\"sleep_time\": 1}])"
      ]
    },
    {
      "cell_type": "code",
      "execution_count": 20,
      "id": "a5c2bcab-baa8-4f95-aceb-8cd6635844d6",
      "metadata": {
        "id": "a5c2bcab-baa8-4f95-aceb-8cd6635844d6",
        "colab": {
          "base_uri": "https://localhost:8080/"
        },
        "outputId": "af451147-867f-47cd-bac2-789f15c3371a"
      },
      "outputs": [
        {
          "output_type": "stream",
          "name": "stdout",
          "text": [
            "lengths checked\n",
            "queue made\n",
            "args, kwargs sorted\n"
          ]
        },
        {
          "output_type": "stream",
          "name": "stderr",
          "text": [
            "Traceback (most recent call last):\n",
            "  File \"/usr/lib/python3.10/multiprocessing/queues.py\", line 244, in _feed\n",
            "    obj = _ForkingPickler.dumps(obj)\n",
            "  File \"/usr/lib/python3.10/multiprocessing/reduction.py\", line 51, in dumps\n",
            "    cls(buf, protocol).dump(obj)\n",
            "AttributeError: Can't pickle local object 'test_func3.<locals>.inner_test_func'\n",
            "Traceback (most recent call last):\n",
            "  File \"/usr/lib/python3.10/multiprocessing/queues.py\", line 244, in _feed\n",
            "    obj = _ForkingPickler.dumps(obj)\n",
            "  File \"/usr/lib/python3.10/multiprocessing/reduction.py\", line 51, in dumps\n",
            "    cls(buf, protocol).dump(obj)\n",
            "AttributeError: Can't pickle local object 'test_func3.<locals>.inner_test_func'\n",
            "Traceback (most recent call last):\n",
            "  File \"/usr/lib/python3.10/multiprocessing/queues.py\", line 244, in _feed\n",
            "    obj = _ForkingPickler.dumps(obj)\n",
            "  File \"/usr/lib/python3.10/multiprocessing/reduction.py\", line 51, in dumps\n",
            "    cls(buf, protocol).dump(obj)\n",
            "AttributeError: Can't pickle local object 'test_func3.<locals>.inner_test_func'\n"
          ]
        },
        {
          "output_type": "stream",
          "name": "stdout",
          "text": [
            "multiprocessing done\n",
            "CPU times: user 24 ms, sys: 15.7 ms, total: 39.7 ms\n",
            "Wall time: 81.4 ms\n"
          ]
        },
        {
          "output_type": "execute_result",
          "data": {
            "text/plain": [
              "<multiprocessing.pool.IMapUnorderedIterator at 0x7f62ec5d8160>"
            ]
          },
          "metadata": {},
          "execution_count": 20
        }
      ],
      "source": [
        "%%time\n",
        "\n",
        "\n",
        "def test_func3():\n",
        "    def inner_test_func(sleep_time):\n",
        "        time.sleep(sleep_time)\n",
        "    return parallel_map(inner_test_func, args_container=[1, 2, 3])\n",
        "\n",
        "# Пример 6\n",
        "# Работает с функциями, созданными внутри других функций\n",
        "test_func3()"
      ]
    }
  ],
  "metadata": {
    "kernelspec": {
      "display_name": "Python 3 (ipykernel)",
      "language": "python",
      "name": "python3"
    },
    "language_info": {
      "codemirror_mode": {
        "name": "ipython",
        "version": 3
      },
      "file_extension": ".py",
      "mimetype": "text/x-python",
      "name": "python",
      "nbconvert_exporter": "python",
      "pygments_lexer": "ipython3",
      "version": "3.9.12"
    },
    "colab": {
      "provenance": []
    }
  },
  "nbformat": 4,
  "nbformat_minor": 5
}
