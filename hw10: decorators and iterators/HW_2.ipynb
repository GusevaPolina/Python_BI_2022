{
  "cells": [
    {
      "cell_type": "markdown",
      "id": "72f5013c-f4b9-4a1f-aed9-7e47623e7c8a",
      "metadata": {
        "id": "72f5013c-f4b9-4a1f-aed9-7e47623e7c8a"
      },
      "source": [
        "# Задание 1 (2 балла)"
      ]
    },
    {
      "cell_type": "markdown",
      "id": "0e818fc0-4716-45c6-8942-7b60da358200",
      "metadata": {
        "id": "0e818fc0-4716-45c6-8942-7b60da358200"
      },
      "source": [
        "Напишите класс `MyDict`, который будет полностью повторять поведение обычного словаря, за исключением того, что при итерации мы должны получать и ключи, и значения.\n",
        "\n",
        "**Модули использовать нельзя**"
      ]
    },
    {
      "cell_type": "code",
      "execution_count": null,
      "id": "3dc27675-99fc-4040-a8f7-aa20be51c816",
      "metadata": {
        "id": "3dc27675-99fc-4040-a8f7-aa20be51c816"
      },
      "outputs": [],
      "source": [
        "class MyDict(dict):\n",
        "\n",
        "  def __iter__(self):\n",
        "    return ((key, value) for key, value in self.items())"
      ]
    },
    {
      "cell_type": "code",
      "execution_count": null,
      "id": "a96e453e-2553-40b1-889f-cce04c6db771",
      "metadata": {
        "id": "a96e453e-2553-40b1-889f-cce04c6db771",
        "outputId": "a4fe7a75-4b79-40a5-9661-d2a72890b7af",
        "colab": {
          "base_uri": "https://localhost:8080/"
        }
      },
      "outputs": [
        {
          "output_type": "stream",
          "name": "stdout",
          "text": [
            "a 1\n",
            "b 2\n",
            "c 3\n",
            "d 25\n"
          ]
        }
      ],
      "source": [
        "dct = MyDict({\"a\": 1, \"b\": 2, \"c\": 3, \"d\": 25})\n",
        "for key, value in dct:\n",
        "    print(key, value)   "
      ]
    },
    {
      "cell_type": "code",
      "execution_count": null,
      "id": "d3b93507-d88a-4773-8d6f-31990e1effbc",
      "metadata": {
        "id": "d3b93507-d88a-4773-8d6f-31990e1effbc",
        "outputId": "ad9bc60c-2ccf-4fb2-c3a8-5914a4ebe455"
      },
      "outputs": [
        {
          "name": "stdout",
          "output_type": "stream",
          "text": [
            "a 1\n",
            "b 2\n",
            "c 3\n",
            "d 25\n"
          ]
        }
      ],
      "source": [
        "for key, value in dct.items():\n",
        "    print(key, value)"
      ]
    },
    {
      "cell_type": "code",
      "execution_count": null,
      "id": "9be2de18-f963-4de0-afba-c183a9a56087",
      "metadata": {
        "id": "9be2de18-f963-4de0-afba-c183a9a56087",
        "outputId": "a17bd8e2-68dd-47d5-bfce-cbe2752cb909"
      },
      "outputs": [
        {
          "name": "stdout",
          "output_type": "stream",
          "text": [
            "a\n",
            "b\n",
            "c\n",
            "d\n"
          ]
        }
      ],
      "source": [
        "for key in dct.keys():\n",
        "    print(key)"
      ]
    },
    {
      "cell_type": "code",
      "execution_count": null,
      "id": "b7bfbf08-7253-4aab-a9a0-a8e8500c5a29",
      "metadata": {
        "id": "b7bfbf08-7253-4aab-a9a0-a8e8500c5a29",
        "outputId": "af910c9d-7e67-4f3a-a99a-ac469a01f1ec"
      },
      "outputs": [
        {
          "data": {
            "text/plain": [
              "28"
            ]
          },
          "execution_count": 28,
          "metadata": {},
          "output_type": "execute_result"
        }
      ],
      "source": [
        "dct[\"c\"] + dct[\"d\"]"
      ]
    },
    {
      "cell_type": "markdown",
      "id": "4bde5544-afd0-408e-a03b-dad5096ee685",
      "metadata": {
        "id": "4bde5544-afd0-408e-a03b-dad5096ee685"
      },
      "source": [
        "# Задание 2 (2 балла)"
      ]
    },
    {
      "cell_type": "markdown",
      "id": "36e85085-9990-4a2a-a005-f5ef3afd438d",
      "metadata": {
        "id": "36e85085-9990-4a2a-a005-f5ef3afd438d"
      },
      "source": [
        "Напишите функцию `iter_append`, которая \"добавляет\" новый элемент в конец итератора, возвращая итератор, который включает изначальные элементы и новый элемент. Итерироваться по итератору внутри функции нельзя, то есть вот такая штука не принимается\n",
        "```python\n",
        "def iter_append(iterator, item):\n",
        "    lst = list(iterator) + [item]\n",
        "    return iter(lst)\n",
        "```\n",
        "\n",
        "**Модули использовать нельзя**"
      ]
    },
    {
      "cell_type": "code",
      "source": [
        "def iter_append(iterator, item):\n",
        "    yield from iterator\n",
        "    yield item\n",
        "    \n",
        "\n",
        "my_iterator = iter([1, 2, 3])\n",
        "new_iterator = iter_append(my_iterator, 4)\n",
        "\n",
        "for element in new_iterator:\n",
        "    print(element)"
      ],
      "metadata": {
        "colab": {
          "base_uri": "https://localhost:8080/"
        },
        "id": "0KmDWgjULvYr",
        "outputId": "fb3fbb25-cecd-4299-c781-8f84d7cf67a4"
      },
      "id": "0KmDWgjULvYr",
      "execution_count": null,
      "outputs": [
        {
          "output_type": "stream",
          "name": "stdout",
          "text": [
            "1\n",
            "2\n",
            "3\n",
            "4\n"
          ]
        }
      ]
    },
    {
      "cell_type": "code",
      "execution_count": null,
      "id": "d70f202a-0515-4f40-a9b1-4738572a837c",
      "metadata": {
        "id": "d70f202a-0515-4f40-a9b1-4738572a837c",
        "outputId": "f6762ccb-96aa-4ab4-ce2c-dd33cf02f7d8"
      },
      "outputs": [
        {
          "name": "stdout",
          "output_type": "stream",
          "text": [
            "1\n",
            "2\n",
            "3\n",
            "4\n"
          ]
        }
      ],
      "source": [
        "def iter_append(iterator, item):\n",
        "    # Ваш код здесь\n",
        "    pass\n",
        "    \n",
        "\n",
        "my_iterator = iter([1, 2, 3])\n",
        "new_iterator = iter_append(my_iterator, 4)\n",
        "\n",
        "for element in new_iterator:\n",
        "    print(element)"
      ]
    },
    {
      "cell_type": "markdown",
      "id": "72c35894-0caf-41ac-a584-56058b243f29",
      "metadata": {
        "id": "72c35894-0caf-41ac-a584-56058b243f29"
      },
      "source": [
        "# Задание 3 (5 баллов)"
      ]
    },
    {
      "cell_type": "markdown",
      "id": "884be4ed-b388-4b36-ad7d-d6835a87425e",
      "metadata": {
        "id": "884be4ed-b388-4b36-ad7d-d6835a87425e"
      },
      "source": [
        "Представим, что мы установили себе некотурую библиотеку, которая содержит в себе два класса `MyString` и `MySet`, которые являются наследниками `str` и `set`, но также несут и дополнительные методы.\n",
        "\n",
        "Проблема заключается в том, что библиотеку писали не очень аккуратные люди, поэтому получилось так, что некоторые методы возвращают не тот тип данных, который мы ожидаем. Например, `MyString().reverse()` возвращает объект класса `str`, хотя логичнее было бы ожидать объект класса `MyString`.\n",
        "\n",
        "Найдите и реализуйте удобный способ сделать так, чтобы подобные методы возвращали экземпляр текущего класса, а не родительского. При этом **код методов изменять нельзя**\n",
        "\n",
        "**+3 дополнительных балла** за реализацию того, чтобы **унаследованные от `str` и `set` методы** также возвращали объект интересующего нас класса (то есть `MyString.replace(..., ...)` должен возвращать `MyString`). **Переопределять методы нельзя**\n",
        "\n",
        "**Модули использовать нельзя**"
      ]
    },
    {
      "cell_type": "code",
      "source": [
        "# it can be put inside classes as well\n",
        "# then class could be inserted automatically and universally\n",
        "def decorator_class_dominus(class_name):\n",
        "    def decorator(func):\n",
        "        def inner_func(*args, **kwargs):\n",
        "            func_output = func(*args, **kwargs)\n",
        "            return class_name(func_output)\n",
        "        return inner_func\n",
        "    return decorator"
      ],
      "metadata": {
        "id": "nUmDln4Eevac"
      },
      "id": "nUmDln4Eevac",
      "execution_count": null,
      "outputs": []
    },
    {
      "cell_type": "code",
      "execution_count": null,
      "id": "7973388e-c16f-437f-a1af-30ddd69f7671",
      "metadata": {
        "id": "7973388e-c16f-437f-a1af-30ddd69f7671"
      },
      "outputs": [],
      "source": [
        "# Ваш код где угодно, но не внутри методов\n",
        "# normally we would use @classmethod\n",
        "class MyString(str):\n",
        "    @decorator_class_dominus(class_name=MyString)\n",
        "    def reverse(self):\n",
        "        return self[::-1]\n",
        "    \n",
        "    @decorator_class_dominus(class_name=MyString)\n",
        "    def make_uppercase(self):\n",
        "        return \"\".join([chr(ord(char) - 32) if 97 <= ord(char) <= 122 else char for char in self])\n",
        "    \n",
        "    @decorator_class_dominus(class_name=MyString)\n",
        "    def make_lowercase(self):\n",
        "        return \"\".join([chr(ord(char) + 32) if 65 <= ord(char) <= 90 else char for char in self])\n",
        "    \n",
        "    @decorator_class_dominus(class_name=MyString)\n",
        "    def capitalize_words(self):\n",
        "        return \" \".join([word.capitalize() for word in self.split()])\n",
        "    \n",
        "    \n",
        "class MySet(set):\n",
        "    def is_empty(self):\n",
        "        return len(self) == 0\n",
        "    \n",
        "    def has_duplicates(self):\n",
        "        return len(self) != len(set(self))\n",
        "    \n",
        "    @decorator_class_dominus(class_name=MySet)\n",
        "    def union_with(self, other):\n",
        "        return self.union(other)\n",
        "    \n",
        "    @decorator_class_dominus(class_name=MySet)\n",
        "    def intersection_with(self, other):\n",
        "        return self.intersection(other)\n",
        "    \n",
        "    @decorator_class_dominus(class_name=MySet)\n",
        "    def difference_with(self, other):\n",
        "        return self.difference(other)"
      ]
    },
    {
      "cell_type": "code",
      "source": [
        "string_example = MyString(\"Aa Bb Cc\")\n",
        "set_example_1 = MySet({1, 2, 3, 4})\n",
        "set_example_2 = MySet({3, 4, 5, 6, 6})\n",
        "\n",
        "print(type(string_example.reverse()))\n",
        "print(type(string_example.make_uppercase()))\n",
        "print(type(string_example.make_lowercase()))\n",
        "print(type(string_example.capitalize_words()))\n",
        "print()\n",
        "print(type(set_example_1.is_empty()))\n",
        "print(type(set_example_2.has_duplicates()))\n",
        "print(type(set_example_1.union_with(set_example_2)))\n",
        "print(type(set_example_1.difference_with(set_example_2)))"
      ],
      "metadata": {
        "colab": {
          "base_uri": "https://localhost:8080/"
        },
        "id": "dc-0C7N9gaxT",
        "outputId": "d0405970-0185-4b4e-c532-9abffd8e466b"
      },
      "id": "dc-0C7N9gaxT",
      "execution_count": null,
      "outputs": [
        {
          "output_type": "stream",
          "name": "stdout",
          "text": [
            "<class '__main__.MyString'>\n",
            "<class '__main__.MyString'>\n",
            "<class '__main__.MyString'>\n",
            "<class '__main__.MyString'>\n",
            "\n",
            "<class 'bool'>\n",
            "<class 'bool'>\n",
            "<class '__main__.MySet'>\n",
            "<class '__main__.MySet'>\n"
          ]
        }
      ]
    },
    {
      "cell_type": "code",
      "execution_count": null,
      "id": "8b985a7b-ddf2-47ce-8b76-a4dd921a2e06",
      "metadata": {
        "id": "8b985a7b-ddf2-47ce-8b76-a4dd921a2e06",
        "outputId": "7cd71727-d569-4192-967c-bb1fe64c6248"
      },
      "outputs": [
        {
          "name": "stdout",
          "output_type": "stream",
          "text": [
            "<class '__main__.MyString'>\n",
            "<class '__main__.MyString'>\n",
            "<class '__main__.MyString'>\n",
            "<class '__main__.MyString'>\n",
            "\n",
            "<class 'bool'>\n",
            "<class 'bool'>\n",
            "<class '__main__.MySet'>\n",
            "<class '__main__.MySet'>\n"
          ]
        }
      ],
      "source": [
        "string_example = MyString(\"Aa Bb Cc\")\n",
        "set_example_1 = MySet({1, 2, 3, 4})\n",
        "set_example_2 = MySet({3, 4, 5, 6, 6})\n",
        "\n",
        "print(type(string_example.reverse()))\n",
        "print(type(string_example.make_uppercase()))\n",
        "print(type(string_example.make_lowercase()))\n",
        "print(type(string_example.capitalize_words()))\n",
        "print()\n",
        "print(type(set_example_1.is_empty()))\n",
        "print(type(set_example_2.has_duplicates()))\n",
        "print(type(set_example_1.union_with(set_example_2)))\n",
        "print(type(set_example_1.difference_with(set_example_2)))"
      ]
    },
    {
      "cell_type": "markdown",
      "id": "f246ecea-9aaa-45c6-98e4-996dc9cdce14",
      "metadata": {
        "id": "f246ecea-9aaa-45c6-98e4-996dc9cdce14"
      },
      "source": [
        "# Задание 4 (5 баллов)"
      ]
    },
    {
      "cell_type": "markdown",
      "id": "e66831d7-df9c-4778-9942-bbb8796fef1e",
      "metadata": {
        "id": "e66831d7-df9c-4778-9942-bbb8796fef1e"
      },
      "source": [
        "Напишите декоратор `switch_privacy`:\n",
        "1. Делает все публичные **методы** класса приватными\n",
        "2. Делает все приватные методы класса публичными\n",
        "3. Dunder методы и защищённые методы остаются без изменений\n",
        "4. Должен работать тестовый код ниже, в теле класса писать код нельзя\n",
        "\n",
        "**Модули использовать нельзя**"
      ]
    },
    {
      "cell_type": "code",
      "source": [
        "my_variable = None\n",
        "\n",
        "def switch_privacy(cls):\n",
        "\n",
        "  global my_variable\n",
        "  if not my_variable:\n",
        "    cls = cls()\n",
        "\n",
        "  def inner_function():\n",
        "\n",
        "    global my_variable\n",
        "    if not my_variable:\n",
        "      my_variable = True\n",
        "\n",
        "      list_public, list_private = [], []\n",
        "\n",
        "      # first, define all public and __private attributes\n",
        "      for attr in cls.__dir__():\n",
        "        # if public\n",
        "        if callable(getattr(cls, attr)) and not attr.startswith(\"_\"):\n",
        "          list_public.append(attr)\n",
        "        # if private (but NOT dunder)\n",
        "        if callable(getattr(cls, attr)) and attr.startswith(\"_ExampleClass__\"):\n",
        "          list_private.append(attr)\n",
        "\n",
        "      # second, rename them all and delete previous versions\n",
        "      for attr_private in list_private: # if private -> turn public\n",
        "        # setattr(obj, attr_name, value)\n",
        "        # value = getattr(obj, attr_name)\n",
        "        setattr(cls, attr_private[len('_ExampleClass__'):], \n",
        "                getattr(cls, attr_private))\n",
        "        # delattr(obj, attr_name)\n",
        "        delattr(cls.__class__, attr_private)#[len('_ExampleClass'):])\n",
        "\n",
        "      for attr_public in list_public: # if public -> private\n",
        "        setattr(cls, \"_ExampleClass__\" + attr_public, getattr(cls, attr_public))\n",
        "        delattr(cls.__class__, attr_public)\n",
        "      \n",
        "    return cls\n",
        "\n",
        "  return inner_function"
      ],
      "metadata": {
        "id": "5VuSE2LlEuQy"
      },
      "id": "5VuSE2LlEuQy",
      "execution_count": null,
      "outputs": []
    },
    {
      "cell_type": "code",
      "execution_count": null,
      "id": "733db8d6-87b8-4797-97be-d3b901422ded",
      "metadata": {
        "id": "733db8d6-87b8-4797-97be-d3b901422ded"
      },
      "outputs": [],
      "source": [
        "# Ваш код здесь\n",
        "@switch_privacy\n",
        "class ExampleClass:\n",
        "    # Но не здесь\n",
        "    def public_method(self):\n",
        "        return 1\n",
        "    \n",
        "    def _protected_method(self):\n",
        "        return 2\n",
        "    \n",
        "    def __private_method(self):\n",
        "        return 3\n",
        "    \n",
        "    def __dunder_method__(self):\n",
        "        pass"
      ]
    },
    {
      "cell_type": "code",
      "source": [
        "# test_object = ExampleClass()\n",
        "dir(ExampleClass())"
      ],
      "metadata": {
        "colab": {
          "base_uri": "https://localhost:8080/"
        },
        "id": "41cr0Qa_G6R2",
        "outputId": "349914a6-8880-4306-bf97-d1fddcadd3f3"
      },
      "id": "41cr0Qa_G6R2",
      "execution_count": null,
      "outputs": [
        {
          "output_type": "execute_result",
          "data": {
            "text/plain": [
              "['_ExampleClass__public_method',\n",
              " '__class__',\n",
              " '__delattr__',\n",
              " '__dict__',\n",
              " '__dir__',\n",
              " '__doc__',\n",
              " '__dunder_method__',\n",
              " '__eq__',\n",
              " '__format__',\n",
              " '__ge__',\n",
              " '__getattribute__',\n",
              " '__gt__',\n",
              " '__hash__',\n",
              " '__init__',\n",
              " '__init_subclass__',\n",
              " '__le__',\n",
              " '__lt__',\n",
              " '__module__',\n",
              " '__ne__',\n",
              " '__new__',\n",
              " '__reduce__',\n",
              " '__reduce_ex__',\n",
              " '__repr__',\n",
              " '__setattr__',\n",
              " '__sizeof__',\n",
              " '__str__',\n",
              " '__subclasshook__',\n",
              " '__weakref__',\n",
              " '_protected_method',\n",
              " 'private_method']"
            ]
          },
          "metadata": {},
          "execution_count": 545
        }
      ]
    },
    {
      "cell_type": "code",
      "source": [
        "test_object = ExampleClass()\n",
        "\n",
        "test_object._ExampleClass__public_method()   # Публичный метод стал приватным"
      ],
      "metadata": {
        "colab": {
          "base_uri": "https://localhost:8080/"
        },
        "id": "SCGjX2XhGP8I",
        "outputId": "c81e7914-a7a5-440c-94d5-499ecdccef05"
      },
      "id": "SCGjX2XhGP8I",
      "execution_count": null,
      "outputs": [
        {
          "output_type": "execute_result",
          "data": {
            "text/plain": [
              "1"
            ]
          },
          "metadata": {},
          "execution_count": 546
        }
      ]
    },
    {
      "cell_type": "code",
      "execution_count": null,
      "id": "f30b1ef8-0f80-482d-89f1-09caece61c88",
      "metadata": {
        "id": "f30b1ef8-0f80-482d-89f1-09caece61c88",
        "outputId": "02958ab3-a149-4392-c0a9-2532a1aa800b"
      },
      "outputs": [
        {
          "data": {
            "text/plain": [
              "2"
            ]
          },
          "execution_count": 115,
          "metadata": {},
          "output_type": "execute_result"
        }
      ],
      "source": [
        "test_object._protected_method()   # Защищённый метод остался защищённым"
      ]
    },
    {
      "cell_type": "code",
      "execution_count": null,
      "id": "71d51e6e-62b5-4440-af3e-75088761b1bf",
      "metadata": {
        "id": "71d51e6e-62b5-4440-af3e-75088761b1bf"
      },
      "outputs": [],
      "source": [
        "test_object.__dunder_method__()   # Дандер метод не изменился"
      ]
    },
    {
      "cell_type": "code",
      "execution_count": null,
      "id": "a97cf0c4-4881-441c-83b6-ef8955377585",
      "metadata": {
        "id": "a97cf0c4-4881-441c-83b6-ef8955377585",
        "outputId": "c7e52092-4033-418c-bd06-9e639657ebbb"
      },
      "outputs": [
        {
          "data": {
            "text/plain": [
              "(False, False)"
            ]
          },
          "execution_count": 117,
          "metadata": {},
          "output_type": "execute_result"
        }
      ],
      "source": [
        "hasattr(test_object, \"public_method\"), hasattr(test_object, \"private\")   # Изначальные варианты изменённых методов не сохраняются"
      ]
    },
    {
      "cell_type": "markdown",
      "id": "31ad0bdd-9a24-4d6c-a499-e975b4b6acdd",
      "metadata": {
        "id": "31ad0bdd-9a24-4d6c-a499-e975b4b6acdd"
      },
      "source": [
        "# Задание 5 (7 баллов)"
      ]
    },
    {
      "cell_type": "markdown",
      "id": "68c75d25-37f7-491d-bcc0-ba74e8bdb364",
      "metadata": {
        "id": "68c75d25-37f7-491d-bcc0-ba74e8bdb364"
      },
      "source": [
        "Напишите [контекстный менеджер](https://docs.python.org/3/library/stdtypes.html#context-manager-types) `OpenFasta`\n",
        "\n",
        "Контекстные менеджеры это специальные объекты, которые могут работать с конструкцией `with ... as ...:`. В них нет ничего сложного, для их реализации как обычно нужно только определить только пару dunder методов. Изучите этот вопрос самостоятельно\n",
        "\n",
        "1. Объект должен работать как обычные файлы в питоне (наследоваться не надо, здесь лучше будет использовать **композицию**), но:\n",
        "    + При итерации по объекту мы должны будем получать не строку из файла, а специальный объект `FastaRecord`. Он будет хранить в себе информацию о последовательности. Важно, **не строки, а именно последовательности**, в fasta файлах последовательность часто разбивают на много строк\n",
        "    + Нужно написать методы `read_record` и `read_records`, которые по смыслу соответствуют `readline()` и `readlines()` в обычных файлах, но они должны выдавать не строки, а объект(ы) `FastaRecord`\n",
        "2. Конструктор должен принимать один аргумент - **путь к файлу**\n",
        "3. Класс должен эффективно распоряжаться памятью, с расчётом на работу с очень большими файлами\n",
        "    \n",
        "Объект `FastaRecord`. Это должен быть **датакласс** (см. про примеры декораторов в соответствующей лекции) с тремя полями:\n",
        "+ `seq` - последовательность\n",
        "+ `id_` - ID последовательности (это то, что в фаста файле в строке, которая начинается с `>` до первого пробела. Например, >**GTD326487.1** Species anonymous 24 chromosome) \n",
        "+ `description` - то, что осталось после ID (Например, >GTD326487.1 **Species anonymous 24 chromosome**)\n",
        "\n",
        "\n",
        "Напишите демонстрацию работы кода с использованием всех написанных методов, обязательно добавьте файл с тестовыми данными в репозиторий (не обязательно большой)\n",
        "\n",
        "**Можно использовать модули из стандартной библиотеки**"
      ]
    },
    {
      "cell_type": "code",
      "source": [
        "from dataclasses import dataclass\n",
        "\n",
        "@dataclass\n",
        "class FastaRecord:\n",
        "  seq: str\n",
        "  id_: str\n",
        "  description: str"
      ],
      "metadata": {
        "id": "ExAH8ZoxkCDQ"
      },
      "id": "ExAH8ZoxkCDQ",
      "execution_count": null,
      "outputs": []
    },
    {
      "cell_type": "code",
      "source": [
        "class OpenFasta:\n",
        "\n",
        "  def __init__(self, path):\n",
        "    self.path = path\n",
        "    self.header = None\n",
        "    self.position = None\n",
        "    self.end_of_file = False\n",
        "\n",
        "  def __enter__(self):\n",
        "    return self\n",
        "  \n",
        "  def __exit__(self, exc_type, exc_val, exc_tb):\n",
        "    pass\n",
        "\n",
        "\n",
        "  def read_record(self):\n",
        "    with open(self.path) as fasta_file:\n",
        "      # let's go to the position where we stop reading last time\n",
        "      if self.position:\n",
        "        fasta_file.seek(self.position)\n",
        "      # let's check if that's the first ever header\n",
        "      if not self.header:\n",
        "        self.header = fasta_file.readline().strip()\n",
        "\n",
        "      # read the first line of a sequence\n",
        "      first_line = fasta_file.readline().strip()\n",
        "      # add it to the line storage\n",
        "      line_storage = [first_line]\n",
        "      # read the next line\n",
        "      line = fasta_file.readline().strip()\n",
        "      # keep read and store line til a next header\n",
        "      while not line.startswith('>'):\n",
        "        line_storage.append(line)\n",
        "        line = fasta_file.readline().strip()\n",
        "        if not line:\n",
        "          self.end_of_file = True\n",
        "          break\n",
        "\n",
        "      # create a FastaRecord object\n",
        "      seq = ''.join(line_storage)\n",
        "      id_, *description = self.header.split()\n",
        "      one_read = FastaRecord(seq=seq, id_=id_, \n",
        "                             description=' '.join(description))\n",
        "      \n",
        "      # to not forget the header, write it into guts\n",
        "      self.header = line\n",
        "      self.position = fasta_file.tell()\n",
        "      \n",
        "      return one_read\n",
        "      \n",
        "\n",
        "  def read_records(self):\n",
        "    # let's get to the beginning of the file\n",
        "    self.position, self.end_of_file = 0, False\n",
        "\n",
        "    record_storage = []\n",
        "    while not self.end_of_file:\n",
        "      record_storage.append(self.read_record())\n",
        "\n",
        "    # let's get to the beginning of the file again\n",
        "    self.position, self.end_of_file = 0, False\n",
        "\n",
        "    return record_storage"
      ],
      "metadata": {
        "id": "rjHhArFrkLrK"
      },
      "id": "rjHhArFrkLrK",
      "execution_count": null,
      "outputs": []
    },
    {
      "cell_type": "code",
      "source": [
        "# super simple test data\n",
        "with open('test_sequences.fasta', 'w') as f:\n",
        "    f.write('>sequence_1 short seq trial \\n')\n",
        "    f.write('ATCGATCGATCG\\n')\n",
        "    f.write('>sequence_2 Ragnarök vulgaris 2023AD \\n')\n",
        "    f.write('GCTAGCTAGCTA\\n')\n",
        "    f.write('GCTAGCTAGCTA\\n')\n",
        "    f.write('GCTAGCTAGCTA\\n')"
      ],
      "metadata": {
        "id": "oPwvScL0RtNR"
      },
      "id": "oPwvScL0RtNR",
      "execution_count": null,
      "outputs": []
    },
    {
      "cell_type": "code",
      "source": [
        "path = 'test_sequences.fasta'\n",
        "with OpenFasta(path) as op:\n",
        "  print('the first sequence:')\n",
        "  print(op.read_record())\n",
        "  print('\\nthe second sequence:')\n",
        "  print(op.read_record())\n",
        "  print('\\nthe list of all sequences:')\n",
        "  print(op.read_records())"
      ],
      "metadata": {
        "colab": {
          "base_uri": "https://localhost:8080/"
        },
        "id": "erng5FtPox1B",
        "outputId": "f9f3a66e-216b-4df1-d365-c143e66cf7ee"
      },
      "id": "erng5FtPox1B",
      "execution_count": null,
      "outputs": [
        {
          "output_type": "stream",
          "name": "stdout",
          "text": [
            "the first sequence:\n",
            "FastaRecord(seq='ATCGATCGATCG', id_='>sequence_1', description='short seq trial')\n",
            "\n",
            "the second sequence:\n",
            "FastaRecord(seq='GCTAGCTAGCTAGCTAGCTAGCTAGCTAGCTAGCTA', id_='>sequence_2', description='Ragnarök vulgaris 2023AD')\n",
            "\n",
            "the list of all sequences:\n",
            "[FastaRecord(seq='ATCGATCGATCG', id_='>sequence_1', description='short seq trial'), FastaRecord(seq='GCTAGCTAGCTAGCTAGCTAGCTAGCTAGCTAGCTA', id_='>sequence_2', description='Ragnarök vulgaris 2023AD')]\n"
          ]
        }
      ]
    },
    {
      "cell_type": "code",
      "source": [
        "# the genome of Caenorhabditis elegans\n",
        "! gdown 1YozYKsDvVor05zMUr-FKhjqRxd7s-jsd"
      ],
      "metadata": {
        "colab": {
          "base_uri": "https://localhost:8080/"
        },
        "id": "UR1Z979WQEz7",
        "outputId": "3b03be0b-7888-4463-c34d-9e0de01658f4"
      },
      "id": "UR1Z979WQEz7",
      "execution_count": null,
      "outputs": [
        {
          "output_type": "stream",
          "name": "stdout",
          "text": [
            "Downloading...\n",
            "From: https://drive.google.com/uc?id=1YozYKsDvVor05zMUr-FKhjqRxd7s-jsd\n",
            "To: /content/GCA_000002985.3_WBcel235_genomic.fna\n",
            "100% 102M/102M [00:00<00:00, 219MB/s] \n"
          ]
        }
      ]
    },
    {
      "cell_type": "code",
      "source": [
        "import os\n",
        "# the genome of Caenorhabditis elegans\n",
        "path = os.path.join(\"data\", 'GCA_000002985.3_WBcel235_genomic.fna')"
      ],
      "metadata": {
        "id": "NZGsl-q8QuZh"
      },
      "id": "NZGsl-q8QuZh",
      "execution_count": null,
      "outputs": []
    },
    {
      "cell_type": "code",
      "source": [
        "%%time\n",
        "with OpenFasta(path) as op:\n",
        "  op.read_record()\n",
        "  op.read_record()\n",
        "  op.read_records()"
      ],
      "metadata": {
        "colab": {
          "base_uri": "https://localhost:8080/"
        },
        "id": "YT3WplnDCE2A",
        "outputId": "67de9312-0e0e-4726-d246-bafcc9dcf88e"
      },
      "id": "YT3WplnDCE2A",
      "execution_count": null,
      "outputs": [
        {
          "output_type": "stream",
          "name": "stdout",
          "text": [
            "CPU times: user 783 ms, sys: 262 ms, total: 1.04 s\n",
            "Wall time: 1.04 s\n"
          ]
        }
      ]
    },
    {
      "cell_type": "code",
      "source": [
        "import psutil\n",
        "\n",
        "def track_memory_usage(func):\n",
        "    def wrapper(*args, **kwargs):\n",
        "        process = psutil.Process()\n",
        "        start_memory_usage = process.memory_info().rss\n",
        "        result = func(*args, **kwargs)\n",
        "        end_memory_usage = process.memory_info().rss\n",
        "        print(f\"Memory usage: {(end_memory_usage - start_memory_usage) / 1000000} MB\")\n",
        "        return result\n",
        "    return wrapper\n",
        "\n",
        "\n",
        "@track_memory_usage\n",
        "def memprof_func(path):\n",
        "  with OpenFasta(path) as op:\n",
        "    op.read_record()\n",
        "    op.read_record()\n",
        "    op.read_records()\n",
        "\n",
        "memprof_func(path)"
      ],
      "metadata": {
        "colab": {
          "base_uri": "https://localhost:8080/"
        },
        "id": "X2hEVKD9rcHj",
        "outputId": "6a1c9790-1bac-490c-9948-ad18a516d900"
      },
      "id": "X2hEVKD9rcHj",
      "execution_count": null,
      "outputs": [
        {
          "output_type": "stream",
          "name": "stdout",
          "text": [
            "Memory usage: 0.192512 MB\n"
          ]
        }
      ]
    },
    {
      "cell_type": "markdown",
      "id": "4db652e9-7697-4dd7-bcc3-649bdc18c1c4",
      "metadata": {
        "id": "4db652e9-7697-4dd7-bcc3-649bdc18c1c4"
      },
      "source": [
        "# Задание 6 (7 баллов)"
      ]
    },
    {
      "cell_type": "markdown",
      "id": "a8ba05f3-29f0-48be-a477-c1f61a9e0537",
      "metadata": {
        "id": "a8ba05f3-29f0-48be-a477-c1f61a9e0537"
      },
      "source": [
        "1. Напишите код, который позволит получать все возможные (неуникальные) генотипы при скрещивании двух организмов. Это может быть функция или класс, что вам кажется более удобным.\n",
        "\n",
        "Например, все возможные исходы скрещивания \"Aabb\" и \"Aabb\" (неуникальные) это\n",
        "\n",
        "```\n",
        "AAbb\n",
        "AAbb\n",
        "AAbb\n",
        "AAbb\n",
        "Aabb\n",
        "Aabb\n",
        "Aabb\n",
        "Aabb\n",
        "Aabb\n",
        "Aabb\n",
        "Aabb\n",
        "Aabb\n",
        "aabb\n",
        "aabb\n",
        "aabb\n",
        "aabb\n",
        "```\n",
        "\n",
        "2. Напишите функцию, которая вычисляет вероятность появления определённого генотипа (его ожидаемую долю в потомстве).\n",
        "Например,\n",
        "\n",
        "```python\n",
        "get_offspting_genotype_probability(parent1=\"Aabb\", parent2=\"Aabb\", target_genotype=\"Аabb\")   # 0.5\n",
        "\n",
        "```\n",
        "\n",
        "3. Напишите код, который выводит все уникальные генотипы при скрещивании `'АаБбввГгДдЕеЖжЗзИиЙйккЛлМмНн'` и `'АаббВвГгДДЕеЖжЗзИиЙйКкЛлМмНН'`, которые содержат в себе следующую комбинацию аллелей `'АаБбВвГгДдЕеЖжЗзИиЙйКкЛл'`\n",
        "4. Напишите код, который расчитывает вероятность появления генотипа `'АаБбввГгДдЕеЖжЗзИиЙйккЛлМмНн'` при скрещивании `АаБбВвГгДдЕеЖжЗзИиЙйКкЛлМмНн` и `АаБбВвГгДдЕеЖжЗзИиЙйКкЛлМмНн`\n",
        "\n",
        "Важные замечания:\n",
        "1. Порядок следования аллелей в случае гетерозигот всегда должен быть следующим: сначала большая буква, затем маленькая (вариант `AaBb` допустим, но `aAbB` быть не должно)\n",
        "2. Подзадачи 3 и 4 могут потребовать много вычислительного времени (до 15+ минут в зависимости от железа), поэтому убедитесь, что вы хорошо протестировали написанный вами код на малых данных перед выполнением этих задач. Если ваш код работает **дольше 20 мин**, то скорее всего ваше решение не оптимально, попытайтесь что-нибудь оптимизировать. Если оптимальное решение совсем не получается, то попробуйте из входных данных во всех заданиях убрать последний ген (это должно уменьшить время выполнения примерно в 4 раза), но **за такое решение будет снято 2 балла**\n",
        "3. Несмотря на то, что подзадания 2, 3 и 4 возможно решить математически, не прибегая к непосредственному получению всех возможных генотипов, от вас требуется именно brute-force вариант алгоритма\n",
        "\n",
        "**Можно использовать модули из стандартной библиотеки питона**, но **за выполнение задания без использования модулей придусмотрено +3 дополнительных балла**"
      ]
    },
    {
      "cell_type": "code",
      "source": [
        "# task 1\n",
        "\n",
        "ploidy = 2\n",
        "p1, p2 = 'Aabb', 'Aabb'\n",
        "\n",
        "p1_allele = [p1[i:i+ploidy] for i in range(0, len(p1), ploidy)]\n",
        "p2_allele = [p2[i:i+ploidy] for i in range(0, len(p2), ploidy)]\n",
        "\n",
        "p1_allele"
      ],
      "metadata": {
        "colab": {
          "base_uri": "https://localhost:8080/"
        },
        "id": "n1sBH_5RwQJz",
        "outputId": "4ff49ca0-b497-48b9-a334-0cf6c4003a1c"
      },
      "id": "n1sBH_5RwQJz",
      "execution_count": null,
      "outputs": [
        {
          "output_type": "execute_result",
          "data": {
            "text/plain": [
              "['Aa', 'bb']"
            ]
          },
          "metadata": {},
          "execution_count": 1
        }
      ]
    },
    {
      "cell_type": "code",
      "source": [
        "import itertools\n",
        "\n",
        "combinations_list = []\n",
        "\n",
        "for i in range(len(p1_allele)):\n",
        "  combinations = list(itertools.product(p1_allele[i], p2_allele[i]))\n",
        "  combinations = [sorted(t) for t in combinations]\n",
        "  combinations_list.append(combinations)\n",
        "  print(combinations)"
      ],
      "metadata": {
        "colab": {
          "base_uri": "https://localhost:8080/"
        },
        "id": "OwcFpoS12k0s",
        "outputId": "e3e9e4b7-8bce-43fc-e991-3a9547245bfa"
      },
      "id": "OwcFpoS12k0s",
      "execution_count": null,
      "outputs": [
        {
          "output_type": "stream",
          "name": "stdout",
          "text": [
            "[['A', 'A'], ['A', 'a'], ['A', 'a'], ['a', 'a']]\n",
            "[['b', 'b'], ['b', 'b'], ['b', 'b'], ['b', 'b']]\n"
          ]
        }
      ]
    },
    {
      "cell_type": "code",
      "source": [
        "all_combinations = list(itertools.product(*combinations_list))\n",
        "all_combinations = [''.join([''.join(sublst) for sublst in lst]) for lst in all_combinations]\n",
        "print(*all_combinations, sep='\\n')"
      ],
      "metadata": {
        "colab": {
          "base_uri": "https://localhost:8080/"
        },
        "id": "Iw4YDKww4W-3",
        "outputId": "44560bee-d140-424f-c04c-491a7c66800f"
      },
      "id": "Iw4YDKww4W-3",
      "execution_count": null,
      "outputs": [
        {
          "output_type": "stream",
          "name": "stdout",
          "text": [
            "AAbb\n",
            "AAbb\n",
            "AAbb\n",
            "AAbb\n",
            "Aabb\n",
            "Aabb\n",
            "Aabb\n",
            "Aabb\n",
            "Aabb\n",
            "Aabb\n",
            "Aabb\n",
            "Aabb\n",
            "aabb\n",
            "aabb\n",
            "aabb\n",
            "aabb\n"
          ]
        }
      ]
    },
    {
      "cell_type": "code",
      "source": [
        "# task 2\n",
        "\n",
        "import itertools\n",
        "\n",
        "\n",
        "def get_offspting_genotype_probability(parent1, parent2, target_genotype, ploidy=2):\n",
        "  p1_allele = [parent1[i:i+ploidy] for i in range(0, len(parent1), ploidy)]\n",
        "  p2_allele = [parent2[i:i+ploidy] for i in range(0, len(parent2), ploidy)]\n",
        "\n",
        "  combinations_list = []\n",
        "\n",
        "  for i in range(len(p1_allele)):\n",
        "    combinations = list(itertools.product(p1_allele[i], p2_allele[i]))\n",
        "    combinations = [sorted(t) for t in combinations]\n",
        "    combinations_list.append(combinations)\n",
        "\n",
        "  all_combinations = list(itertools.product(*combinations_list))\n",
        "  all_combinations = [''.join([''.join(sublst) for sublst in lst]) for lst in all_combinations]\n",
        "  counter = all_combinations.count(target_genotype)\n",
        "\n",
        "  return counter / len(all_combinations)\n",
        "\n",
        "\n",
        "get_offspting_genotype_probability(parent1=\"Aabb\", parent2=\"Aabb\", target_genotype=\"Aabb\")"
      ],
      "metadata": {
        "colab": {
          "base_uri": "https://localhost:8080/"
        },
        "id": "cZciIxYL7M7w",
        "outputId": "cba8013d-4d89-4c1f-8112-ad6286a21708"
      },
      "id": "cZciIxYL7M7w",
      "execution_count": null,
      "outputs": [
        {
          "output_type": "execute_result",
          "data": {
            "text/plain": [
              "0.5"
            ]
          },
          "metadata": {},
          "execution_count": 48
        }
      ]
    },
    {
      "cell_type": "code",
      "source": [
        "# task 3\n",
        "\n",
        "# as we need ONLY UNIQUE \n",
        "# than we can just replace all variaty of alleles by the needed ones\n",
        "\n",
        "p0 = 'АаБбВвГгДдЕеЖжЗзИиЙйКкЛл'\n",
        "p0_dict = {}\n",
        "for i in range(0, len(p0), 2):\n",
        "  p0_dict[p0[i].upper()] = p0[i:i+2]\n",
        "\n",
        "p1 = 'АаБбввГгДдЕеЖжЗзИиЙйккЛлМмНн'\n",
        "p2 = 'АаббВвГгДДЕеЖжЗзИиЙйКкЛлМмНН'\n",
        "\n",
        "p1_allele = [p1[i:i+ploidy] for i in range(0, len(p1), ploidy)]\n",
        "p2_allele = [p1[i:i+ploidy] for i in range(0, len(p2), ploidy)]\n",
        "\n",
        "combinations_list = []\n",
        "\n",
        "for i in range(len(p1_allele)):\n",
        "  if p1_allele[i][0].upper() in p0.upper():\n",
        "    combinations = [list(p0_dict[p1_allele[i][0].upper()])]\n",
        "  else:\n",
        "    combinations = list(itertools.product(p1_allele[i], p2_allele[i]))\n",
        "    combinations = [sorted(t) for t in combinations]\n",
        "  combinations_list.append(combinations)\n",
        "\n",
        "all_combinations = list(itertools.product(*combinations_list))\n",
        "all_combinations = [''.join([''.join(sublst) for sublst in lst]) for lst in all_combinations]\n",
        "\n",
        "set(all_combinations)"
      ],
      "metadata": {
        "id": "xZlsHaDGC5Bn",
        "colab": {
          "base_uri": "https://localhost:8080/"
        },
        "outputId": "f17a32f1-303e-4d47-866e-8f8c5cfdb6ca"
      },
      "id": "xZlsHaDGC5Bn",
      "execution_count": null,
      "outputs": [
        {
          "output_type": "execute_result",
          "data": {
            "text/plain": [
              "{'АаБбВвГгДдЕеЖжЗзИиЙйКкЛлММНН',\n",
              " 'АаБбВвГгДдЕеЖжЗзИиЙйКкЛлММНн',\n",
              " 'АаБбВвГгДдЕеЖжЗзИиЙйКкЛлММнн',\n",
              " 'АаБбВвГгДдЕеЖжЗзИиЙйКкЛлМмНН',\n",
              " 'АаБбВвГгДдЕеЖжЗзИиЙйКкЛлМмНн',\n",
              " 'АаБбВвГгДдЕеЖжЗзИиЙйКкЛлМмнн',\n",
              " 'АаБбВвГгДдЕеЖжЗзИиЙйКкЛлммНН',\n",
              " 'АаБбВвГгДдЕеЖжЗзИиЙйКкЛлммНн',\n",
              " 'АаБбВвГгДдЕеЖжЗзИиЙйКкЛлммнн'}"
            ]
          },
          "metadata": {},
          "execution_count": 75
        }
      ]
    },
    {
      "cell_type": "code",
      "source": [
        "# task 4 \n",
        "# * the brut-force mwthod is below\n",
        "\n",
        "# a minute of theory\n",
        "# the probability of getting combination of genes = p(gene1) * p(gene2)\n",
        "# therefore, to get a probability of a specific genotype\n",
        "# we need to just multiply _ONLY_ all specific genes specified\n",
        "\n",
        "probability = 1\n",
        "\n",
        "import pandas as pd\n",
        "df = pd.DataFrame(columns=['all_possible_combinations', \n",
        "                           'desirable_combination', 'probability'])\n",
        "\n",
        "p0 = 'АаБбввГгДдЕеЖжЗзИиЙйккЛлМмНн'\n",
        "p1 = 'АаБбВвГгДдЕеЖжЗзИиЙйКкЛлМмНн'\n",
        "p2 = 'АаБбВвГгДдЕеЖжЗзИиЙйКкЛлМмНн'\n",
        "\n",
        "p0_dict = {}\n",
        "for i in range(0, len(p0), 2):\n",
        "  p0_dict[p0[i].upper()] = p0[i:i+2]\n",
        "\n",
        "p1_allele = [p1[i:i+ploidy] for i in range(0, len(p1), ploidy)]\n",
        "p2_allele = [p1[i:i+ploidy] for i in range(0, len(p2), ploidy)]\n",
        "\n",
        "combinations_list = []\n",
        "\n",
        "for i in range(len(p1_allele)):\n",
        "  if p1_allele[i][0].upper() in p0.upper():\n",
        "    combinations = list(itertools.product(p1_allele[i], p2_allele[i]))\n",
        "    combinations = [sorted(t) for t in combinations]\n",
        "    combinations = [''.join([''.join(sublst) for sublst in lst]) for lst in combinations]\n",
        "    counter = combinations.count(p0_dict[p1_allele[i][0].upper()])\n",
        "    adder = [[combinations], p0_dict[p1_allele[i][0].upper()], counter / len(combinations)]\n",
        "    df = pd.concat([df, pd.DataFrame(dict(zip(df.columns, adder)))])\n",
        "\n",
        "print(f'The probability to get the {p0} genotype from parents with {p1} and {p2} is {df.probability.prod()}\\n')\n",
        "df"
      ],
      "metadata": {
        "colab": {
          "base_uri": "https://localhost:8080/",
          "height": 508
        },
        "id": "2d43KGDcIaed",
        "outputId": "f744c321-4aee-40ab-a864-4642e701bc3c"
      },
      "id": "2d43KGDcIaed",
      "execution_count": null,
      "outputs": [
        {
          "output_type": "stream",
          "name": "stdout",
          "text": [
            "The probability to get the АаБбввГгДдЕеЖжЗзИиЙйккЛлМмНн genotype from parents with АаБбВвГгДдЕеЖжЗзИиЙйКкЛлМмНн and АаБбВвГгДдЕеЖжЗзИиЙйКкЛлМмНн is 1.52587890625e-05\n",
            "\n"
          ]
        },
        {
          "output_type": "execute_result",
          "data": {
            "text/plain": [
              "  all_possible_combinations desirable_combination  probability\n",
              "0          [АА, Аа, Аа, аа]                    Аа         0.50\n",
              "0          [ББ, Бб, Бб, бб]                    Бб         0.50\n",
              "0          [ВВ, Вв, Вв, вв]                    вв         0.25\n",
              "0          [ГГ, Гг, Гг, гг]                    Гг         0.50\n",
              "0          [ДД, Дд, Дд, дд]                    Дд         0.50\n",
              "0          [ЕЕ, Ее, Ее, ее]                    Ее         0.50\n",
              "0          [ЖЖ, Жж, Жж, жж]                    Жж         0.50\n",
              "0          [ЗЗ, Зз, Зз, зз]                    Зз         0.50\n",
              "0          [ИИ, Ии, Ии, ии]                    Ии         0.50\n",
              "0          [ЙЙ, Йй, Йй, йй]                    Йй         0.50\n",
              "0          [КК, Кк, Кк, кк]                    кк         0.25\n",
              "0          [ЛЛ, Лл, Лл, лл]                    Лл         0.50\n",
              "0          [ММ, Мм, Мм, мм]                    Мм         0.50\n",
              "0          [НН, Нн, Нн, нн]                    Нн         0.50"
            ],
            "text/html": [
              "\n",
              "  <div id=\"df-d0d28c9b-d295-4ff2-ac6b-7222577a5519\">\n",
              "    <div class=\"colab-df-container\">\n",
              "      <div>\n",
              "<style scoped>\n",
              "    .dataframe tbody tr th:only-of-type {\n",
              "        vertical-align: middle;\n",
              "    }\n",
              "\n",
              "    .dataframe tbody tr th {\n",
              "        vertical-align: top;\n",
              "    }\n",
              "\n",
              "    .dataframe thead th {\n",
              "        text-align: right;\n",
              "    }\n",
              "</style>\n",
              "<table border=\"1\" class=\"dataframe\">\n",
              "  <thead>\n",
              "    <tr style=\"text-align: right;\">\n",
              "      <th></th>\n",
              "      <th>all_possible_combinations</th>\n",
              "      <th>desirable_combination</th>\n",
              "      <th>probability</th>\n",
              "    </tr>\n",
              "  </thead>\n",
              "  <tbody>\n",
              "    <tr>\n",
              "      <th>0</th>\n",
              "      <td>[АА, Аа, Аа, аа]</td>\n",
              "      <td>Аа</td>\n",
              "      <td>0.50</td>\n",
              "    </tr>\n",
              "    <tr>\n",
              "      <th>0</th>\n",
              "      <td>[ББ, Бб, Бб, бб]</td>\n",
              "      <td>Бб</td>\n",
              "      <td>0.50</td>\n",
              "    </tr>\n",
              "    <tr>\n",
              "      <th>0</th>\n",
              "      <td>[ВВ, Вв, Вв, вв]</td>\n",
              "      <td>вв</td>\n",
              "      <td>0.25</td>\n",
              "    </tr>\n",
              "    <tr>\n",
              "      <th>0</th>\n",
              "      <td>[ГГ, Гг, Гг, гг]</td>\n",
              "      <td>Гг</td>\n",
              "      <td>0.50</td>\n",
              "    </tr>\n",
              "    <tr>\n",
              "      <th>0</th>\n",
              "      <td>[ДД, Дд, Дд, дд]</td>\n",
              "      <td>Дд</td>\n",
              "      <td>0.50</td>\n",
              "    </tr>\n",
              "    <tr>\n",
              "      <th>0</th>\n",
              "      <td>[ЕЕ, Ее, Ее, ее]</td>\n",
              "      <td>Ее</td>\n",
              "      <td>0.50</td>\n",
              "    </tr>\n",
              "    <tr>\n",
              "      <th>0</th>\n",
              "      <td>[ЖЖ, Жж, Жж, жж]</td>\n",
              "      <td>Жж</td>\n",
              "      <td>0.50</td>\n",
              "    </tr>\n",
              "    <tr>\n",
              "      <th>0</th>\n",
              "      <td>[ЗЗ, Зз, Зз, зз]</td>\n",
              "      <td>Зз</td>\n",
              "      <td>0.50</td>\n",
              "    </tr>\n",
              "    <tr>\n",
              "      <th>0</th>\n",
              "      <td>[ИИ, Ии, Ии, ии]</td>\n",
              "      <td>Ии</td>\n",
              "      <td>0.50</td>\n",
              "    </tr>\n",
              "    <tr>\n",
              "      <th>0</th>\n",
              "      <td>[ЙЙ, Йй, Йй, йй]</td>\n",
              "      <td>Йй</td>\n",
              "      <td>0.50</td>\n",
              "    </tr>\n",
              "    <tr>\n",
              "      <th>0</th>\n",
              "      <td>[КК, Кк, Кк, кк]</td>\n",
              "      <td>кк</td>\n",
              "      <td>0.25</td>\n",
              "    </tr>\n",
              "    <tr>\n",
              "      <th>0</th>\n",
              "      <td>[ЛЛ, Лл, Лл, лл]</td>\n",
              "      <td>Лл</td>\n",
              "      <td>0.50</td>\n",
              "    </tr>\n",
              "    <tr>\n",
              "      <th>0</th>\n",
              "      <td>[ММ, Мм, Мм, мм]</td>\n",
              "      <td>Мм</td>\n",
              "      <td>0.50</td>\n",
              "    </tr>\n",
              "    <tr>\n",
              "      <th>0</th>\n",
              "      <td>[НН, Нн, Нн, нн]</td>\n",
              "      <td>Нн</td>\n",
              "      <td>0.50</td>\n",
              "    </tr>\n",
              "  </tbody>\n",
              "</table>\n",
              "</div>\n",
              "      <button class=\"colab-df-convert\" onclick=\"convertToInteractive('df-d0d28c9b-d295-4ff2-ac6b-7222577a5519')\"\n",
              "              title=\"Convert this dataframe to an interactive table.\"\n",
              "              style=\"display:none;\">\n",
              "        \n",
              "  <svg xmlns=\"http://www.w3.org/2000/svg\" height=\"24px\"viewBox=\"0 0 24 24\"\n",
              "       width=\"24px\">\n",
              "    <path d=\"M0 0h24v24H0V0z\" fill=\"none\"/>\n",
              "    <path d=\"M18.56 5.44l.94 2.06.94-2.06 2.06-.94-2.06-.94-.94-2.06-.94 2.06-2.06.94zm-11 1L8.5 8.5l.94-2.06 2.06-.94-2.06-.94L8.5 2.5l-.94 2.06-2.06.94zm10 10l.94 2.06.94-2.06 2.06-.94-2.06-.94-.94-2.06-.94 2.06-2.06.94z\"/><path d=\"M17.41 7.96l-1.37-1.37c-.4-.4-.92-.59-1.43-.59-.52 0-1.04.2-1.43.59L10.3 9.45l-7.72 7.72c-.78.78-.78 2.05 0 2.83L4 21.41c.39.39.9.59 1.41.59.51 0 1.02-.2 1.41-.59l7.78-7.78 2.81-2.81c.8-.78.8-2.07 0-2.86zM5.41 20L4 18.59l7.72-7.72 1.47 1.35L5.41 20z\"/>\n",
              "  </svg>\n",
              "      </button>\n",
              "      \n",
              "  <style>\n",
              "    .colab-df-container {\n",
              "      display:flex;\n",
              "      flex-wrap:wrap;\n",
              "      gap: 12px;\n",
              "    }\n",
              "\n",
              "    .colab-df-convert {\n",
              "      background-color: #E8F0FE;\n",
              "      border: none;\n",
              "      border-radius: 50%;\n",
              "      cursor: pointer;\n",
              "      display: none;\n",
              "      fill: #1967D2;\n",
              "      height: 32px;\n",
              "      padding: 0 0 0 0;\n",
              "      width: 32px;\n",
              "    }\n",
              "\n",
              "    .colab-df-convert:hover {\n",
              "      background-color: #E2EBFA;\n",
              "      box-shadow: 0px 1px 2px rgba(60, 64, 67, 0.3), 0px 1px 3px 1px rgba(60, 64, 67, 0.15);\n",
              "      fill: #174EA6;\n",
              "    }\n",
              "\n",
              "    [theme=dark] .colab-df-convert {\n",
              "      background-color: #3B4455;\n",
              "      fill: #D2E3FC;\n",
              "    }\n",
              "\n",
              "    [theme=dark] .colab-df-convert:hover {\n",
              "      background-color: #434B5C;\n",
              "      box-shadow: 0px 1px 3px 1px rgba(0, 0, 0, 0.15);\n",
              "      filter: drop-shadow(0px 1px 2px rgba(0, 0, 0, 0.3));\n",
              "      fill: #FFFFFF;\n",
              "    }\n",
              "  </style>\n",
              "\n",
              "      <script>\n",
              "        const buttonEl =\n",
              "          document.querySelector('#df-d0d28c9b-d295-4ff2-ac6b-7222577a5519 button.colab-df-convert');\n",
              "        buttonEl.style.display =\n",
              "          google.colab.kernel.accessAllowed ? 'block' : 'none';\n",
              "\n",
              "        async function convertToInteractive(key) {\n",
              "          const element = document.querySelector('#df-d0d28c9b-d295-4ff2-ac6b-7222577a5519');\n",
              "          const dataTable =\n",
              "            await google.colab.kernel.invokeFunction('convertToInteractive',\n",
              "                                                     [key], {});\n",
              "          if (!dataTable) return;\n",
              "\n",
              "          const docLinkHtml = 'Like what you see? Visit the ' +\n",
              "            '<a target=\"_blank\" href=https://colab.research.google.com/notebooks/data_table.ipynb>data table notebook</a>'\n",
              "            + ' to learn more about interactive tables.';\n",
              "          element.innerHTML = '';\n",
              "          dataTable['output_type'] = 'display_data';\n",
              "          await google.colab.output.renderOutput(dataTable, element);\n",
              "          const docLink = document.createElement('div');\n",
              "          docLink.innerHTML = docLinkHtml;\n",
              "          element.appendChild(docLink);\n",
              "        }\n",
              "      </script>\n",
              "    </div>\n",
              "  </div>\n",
              "  "
            ]
          },
          "metadata": {},
          "execution_count": 74
        }
      ]
    },
    {
      "cell_type": "code",
      "source": [
        "# let's calculate it as brut-force\n",
        "# however, instead of calculate all let's approximate\n",
        "# for that let's measure time for less expensive numbers of alleles\n",
        "\n",
        "import time\n",
        "\n",
        "p0 = \"АаБбввГгДдЕеЖжЗзИиЙйккЛлМмНн\"\n",
        "p1 = \"АаБбВвГгДдЕеЖжЗзИиЙйКкЛлМмНн\"\n",
        "p2 = \"АаБбВвГгДдЕеЖжЗзИиЙйКкЛлМмНн\"\n",
        "\n",
        "time_storage = []\n",
        "\n",
        "for i in range(0, len(p0)-4, 2):\n",
        "  p0_, p1_, p2_ = p0[:i+2], p1[:i+2], p2[:i+2]\n",
        "  start = time.time()\n",
        "  a = get_offspting_genotype_probability(p1_, p2_, p0_)\n",
        "  time_storage.append(time.time() - start)"
      ],
      "metadata": {
        "id": "xCjOAAZ7UNk_"
      },
      "id": "xCjOAAZ7UNk_",
      "execution_count": null,
      "outputs": []
    },
    {
      "cell_type": "code",
      "source": [
        "# let's plot it and linearly approximate as a logarithm\n",
        "\n",
        "import matplotlib.pyplot as plt\n",
        "import numpy as np\n",
        "from scipy.stats import linregress\n",
        "\n",
        "x = np.arange(0, len(p0)-4, 2) / 2\n",
        "x2 = np.arange(0, len(p0), 2) / 2\n",
        "y = np.log10(time_storage)\n",
        "slope, intercept, r_value, p_value, std_err = linregress(x, y)\n",
        "\n",
        "plt.plot(x, time_storage, label='real data')\n",
        "plt.scatter(x, time_storage)\n",
        "plt.plot(x2, 10**(slope * x2 + intercept), 'r--', label='approximation')\n",
        "plt.yscale('log'); plt.legend(loc=4); plt.grid()\n",
        "plt.xlabel('amount of alleles'); plt.ylabel('time, s')\n",
        "\n",
        "plt.annotate(f'y = {slope:.3f} * x + {intercept:.3f}', (0.1, 3));"
      ],
      "metadata": {
        "colab": {
          "base_uri": "https://localhost:8080/",
          "height": 278
        },
        "id": "gxsR2RqiVlsc",
        "outputId": "4f1bd640-29b0-428b-98bb-241e6097c438"
      },
      "id": "gxsR2RqiVlsc",
      "execution_count": null,
      "outputs": [
        {
          "output_type": "display_data",
          "data": {
            "text/plain": [
              "<Figure size 432x288 with 1 Axes>"
            ],
            "image/png": "[encoded data removed]"
          },
          "metadata": {
            "needs_background": "light"
          }
        }
      ]
    },
    {
      "cell_type": "code",
      "source": [
        "# as the counts get from 0 we should subtract -1\n",
        "time_all_alleles = 10**((slope * (len(p1) / 2 - 1)) + intercept) / 60\n",
        "\n",
        "print(f'{time_all_alleles:.3f} minutes is required for calculating the task for {len(p1) // 2} alleles')"
      ],
      "metadata": {
        "colab": {
          "base_uri": "https://localhost:8080/"
        },
        "id": "4oa41oKoYxmx",
        "outputId": "c340c74d-c89c-478b-ea6b-b4acf637b973"
      },
      "id": "4oa41oKoYxmx",
      "execution_count": null,
      "outputs": [
        {
          "output_type": "stream",
          "name": "stdout",
          "text": [
            "19.501 minutes is required for calculating the task for 14 alleles\n"
          ]
        }
      ]
    },
    {
      "cell_type": "code",
      "source": [
        "%%time\n",
        "get_offspting_genotype_probability(parent1=\"АаБбВвГгДдЕеЖжЗзИиЙйКкЛл\", \n",
        "                                   parent2=\"АаБбВвГгДдЕеЖжЗзИиЙйКкЛл\", \n",
        "                                   target_genotype=\"АаБбввГгДдЕеЖжЗзИиЙйккЛл\")"
      ],
      "metadata": {
        "colab": {
          "base_uri": "https://localhost:8080/"
        },
        "id": "HjfBuIS5Pvu1",
        "outputId": "60c848ca-90c2-407f-989f-e9f22ba20f12"
      },
      "id": "HjfBuIS5Pvu1",
      "execution_count": null,
      "outputs": [
        {
          "output_type": "stream",
          "name": "stdout",
          "text": [
            "CPU times: user 1min 8s, sys: 5.21 s, total: 1min 13s\n",
            "Wall time: 1min 22s\n"
          ]
        },
        {
          "output_type": "execute_result",
          "data": {
            "text/plain": [
              "6.103515625e-05"
            ]
          },
          "metadata": {},
          "execution_count": 104
        }
      ]
    }
  ],
  "metadata": {
    "kernelspec": {
      "display_name": "Python 3 (ipykernel)",
      "language": "python",
      "name": "python3"
    },
    "language_info": {
      "codemirror_mode": {
        "name": "ipython",
        "version": 3
      },
      "file_extension": ".py",
      "mimetype": "text/x-python",
      "name": "python",
      "nbconvert_exporter": "python",
      "pygments_lexer": "ipython3",
      "version": "3.9.12"
    },
    "colab": {
      "provenance": []
    }
  },
  "nbformat": 4,
  "nbformat_minor": 5
}