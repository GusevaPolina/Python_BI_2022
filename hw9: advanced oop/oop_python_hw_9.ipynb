{
  "cells": [
    {
      "cell_type": "markdown",
      "id": "7c5a538f-2dbe-445c-9f46-cf0dc18867e4",
      "metadata": {
        "id": "7c5a538f-2dbe-445c-9f46-cf0dc18867e4"
      },
      "source": [
        "# Задание 1 (5 баллов)"
      ]
    },
    {
      "cell_type": "markdown",
      "id": "1e8cc3b0-6f60-40da-8058-30d9eb434daf",
      "metadata": {
        "id": "1e8cc3b0-6f60-40da-8058-30d9eb434daf"
      },
      "source": [
        "Напишите классы **Chat**, **Message** и **User**. Они должны соответствовать следующим требованиям:\n",
        "\n",
        "**Chat**:\n",
        "+ Должен иметь атрибут `chat_history`, где будут храниться все сообщения (`Message`) в обратном хронологическом порядке (сначала новые, затем старые)\n",
        "+ Должен иметь метод `show_last_message`, выводящий на экран информацию о последнем сообщении\n",
        "+ Должен иметь метод `get_history_from_time_period`, который принимает два опциональных аргумента (даты с которой и по какую мы ищем сообщения и выдаём их). Метод также должен возвращать объект типа `Chat`\n",
        "+ Должен иметь метод `show_chat`, выводящий на экран все сообщения (каждое сообщение в таком же виде как и `show_last_message`, но с разделителем между ними)\n",
        "+ Должен иметь метод `recieve`, который будет принимать сообщение и добавлять его в чат\n",
        "\n",
        "**Message**:\n",
        "+ Должен иметь три обязательных атрибута\n",
        "    + `text` - текст сообщения\n",
        "    + `datetime` - дата и время сообщения (встроенный модуль datetime вам в помощь). Важно! Это должна быть не дата создания сообщения, а дата его попадания в чат! \n",
        "    + `user` - информация о пользователе, который оставил сообщение (какой тип данных использовать здесь, разберётесь сами)\n",
        "+ Должен иметь метод `show`, который печатает или возвращает информацию о сообщении с необходимой информацией (дата, время, юзер, текст)\n",
        "+ Должен иметь метод `send`, который будет отправлять сообщение в чат\n",
        "\n",
        "**User**:\n",
        "+ Класс с информацией о юзере, наполнение для этого класса придумайте сами\n",
        "\n",
        "Напишите несколько примеров использования кода, которое показывает взаимодействие между объектами.\n",
        "\n",
        "В тексте задания намерено не указано, какие аргументы должны принимать методы, пускай вам в этом поможет здравый смысл)\n",
        "\n",
        "В этом задании не стоит флексить всякими продвинутыми штуками, для этого есть последующие\n",
        "\n",
        "В этом задании можно использовать только модуль `datetime`"
      ]
    },
    {
      "cell_type": "code",
      "execution_count": null,
      "id": "d14ce6ca-7294-492c-8a01-3f7547680474",
      "metadata": {
        "id": "d14ce6ca-7294-492c-8a01-3f7547680474"
      },
      "outputs": [],
      "source": [
        "import datetime\n",
        "\n",
        "class Chat:\n",
        "    def __init__(self):\n",
        "      self.chat_history = []\n",
        "\n",
        "    def show_last_message(self):\n",
        "      # the assumption is made that we live in the one timeline\n",
        "      # therefore, the last message is one sent as the latest\n",
        "      last_message = self.chat_history[0]\n",
        "      return last_message.show()\n",
        "    \n",
        "    def get_history_from_time_period(self, start, stop):\n",
        "      chat_sorted = Chat() # type(self) ?\n",
        "\n",
        "      for message in self.chat_history[::-1]:\n",
        "        if start <= message.datetime <= stop:\n",
        "          chat_sorted.recieve(message)\n",
        "\n",
        "      return chat_sorted\n",
        "\n",
        "    def show_chat(self):\n",
        "      for message in self.chat_history:\n",
        "        message.show()\n",
        "        print()\n",
        "\n",
        "    def recieve(self, message):\n",
        "      self.chat_history = [message] + self.chat_history\n",
        "\n",
        "\n",
        "class Message:\n",
        "    def __init__(self, text, date_time, user, ability='is a god/ess'):\n",
        "      self.text = text\n",
        "      self.datetime = datetime.datetime.strptime(date_time, \"%d/%m/%y %H:%M\")\n",
        "      self.user = User(ability=ability, name=user)\n",
        "\n",
        "    def show(self):\n",
        "      print(self.datetime, self.user.name, self.text)\n",
        "\n",
        "    def send(self, chat):\n",
        "      chat.recieve(self)\n",
        "\n",
        "\n",
        "class User:\n",
        "    def __init__(self, name, ability):\n",
        "      self.ability = ability\n",
        "      self.name = name\n",
        "\n",
        "    def greeting(self):\n",
        "      print(f'Hi, {self.name}! U r gorgeous')\n",
        "\n",
        "    def description(self):\n",
        "      print(f'{self.name} {self.ability}')"
      ]
    },
    {
      "cell_type": "code",
      "source": [
        "# let's innitialise and send all our messsages to a chat\n",
        "new_chat = Chat()\n",
        "\n",
        "new_message1 = Message('new message number 1', '01/12/06 16:30', 'Brahma')\n",
        "new_message2 = Message('new message number 2', '11/12/06 17:30', 'Vishnu')\n",
        "new_message3 = Message('new message number 3', '21/12/06 18:30', 'Shiva',\n",
        "                       'destroys the universe in order to recreate it')\n",
        "new_message4 = Message('new message number 4', '31/12/06 19:30', 'Devi',\n",
        "                       'fights to restore dharma')\n",
        "\n",
        "new_message1.send(new_chat)\n",
        "new_message2.send(new_chat)\n",
        "new_message3.send(new_chat)\n",
        "new_message4.send(new_chat)"
      ],
      "metadata": {
        "id": "ir9wMgvMkT5c"
      },
      "id": "ir9wMgvMkT5c",
      "execution_count": null,
      "outputs": []
    },
    {
      "cell_type": "code",
      "source": [
        "# the last message was: ...\n",
        "new_chat.show_last_message()"
      ],
      "metadata": {
        "colab": {
          "base_uri": "https://localhost:8080/"
        },
        "id": "0xPxOyXcnqXu",
        "outputId": "62d89007-e84b-4085-e77e-3e0b85272dab"
      },
      "id": "0xPxOyXcnqXu",
      "execution_count": null,
      "outputs": [
        {
          "output_type": "stream",
          "name": "stdout",
          "text": [
            "2006-12-31 19:30:00 Devi new message number 4\n"
          ]
        }
      ]
    },
    {
      "cell_type": "code",
      "source": [
        "# let's sort messages into a sorted chat and show it\n",
        "\n",
        "start_time = datetime.datetime.strptime('10/12/06 19:30', \"%d/%m/%y %H:%M\")\n",
        "stop_time = datetime.datetime.strptime('30/12/06 19:30', \"%d/%m/%y %H:%M\")\n",
        "\n",
        "new_chat_sorted = new_chat.get_history_from_time_period(start_time, stop_time)\n",
        "\n",
        "new_chat_sorted.show_chat()"
      ],
      "metadata": {
        "colab": {
          "base_uri": "https://localhost:8080/"
        },
        "id": "-SkqLqJkoQiq",
        "outputId": "ca0acf59-51ec-4b02-b017-276149d1ed55"
      },
      "id": "-SkqLqJkoQiq",
      "execution_count": null,
      "outputs": [
        {
          "output_type": "stream",
          "name": "stdout",
          "text": [
            "2006-12-21 18:30:00 Shiva new message number 3\n",
            "\n",
            "2006-12-11 17:30:00 Vishnu new message number 2\n",
            "\n"
          ]
        }
      ]
    },
    {
      "cell_type": "code",
      "source": [
        "new_message3.user.greeting()\n",
        "new_message3.user.description()"
      ],
      "metadata": {
        "colab": {
          "base_uri": "https://localhost:8080/"
        },
        "id": "9eqsoJuPp9B2",
        "outputId": "9915d0ab-6f4b-48ac-8d02-cc3b697f1834"
      },
      "id": "9eqsoJuPp9B2",
      "execution_count": null,
      "outputs": [
        {
          "output_type": "stream",
          "name": "stdout",
          "text": [
            "Hi, Shiva! U r gorgeous\n",
            "Shiva destroys the universe in order to recreate it\n"
          ]
        }
      ]
    },
    {
      "cell_type": "markdown",
      "id": "a59aa1b3-4c93-480e-a09f-e57df34eb60a",
      "metadata": {
        "id": "a59aa1b3-4c93-480e-a09f-e57df34eb60a"
      },
      "source": [
        "# Задание 2 (3 балла)"
      ]
    },
    {
      "cell_type": "markdown",
      "id": "ab07eb69-877f-4c38-8c7d-88beae20071b",
      "metadata": {
        "id": "ab07eb69-877f-4c38-8c7d-88beae20071b"
      },
      "source": [
        "В питоне как-то слишком типично и неинтересно происходят вызовы функций. Напишите класс `Args`, который будет хранить в себе аргументы, а функции можно будет вызывать при помощи следующего синтаксиса.\n",
        "\n",
        "Использовать любые модули **нельзя**, да и вряд-ли это как-то поможет)"
      ]
    },
    {
      "cell_type": "code",
      "execution_count": 257,
      "id": "d73d6b31-c15a-4ae6-ad9b-b3fdab88efed",
      "metadata": {
        "id": "d73d6b31-c15a-4ae6-ad9b-b3fdab88efed"
      },
      "outputs": [],
      "source": [
        "# to avoid annoying nested list let's flatten them \n",
        "def flatten_list(nested_list):\n",
        "  flattened_list = []\n",
        "  for element in nested_list:\n",
        "      if isinstance(element, list):\n",
        "          flattened_list += flatten_list(element)\n",
        "      else:\n",
        "          flattened_list.append(element)\n",
        "  return flattened_list\n",
        "\n",
        "\n",
        "\n",
        "class Args:\n",
        "    def __init__(self, *args, **kwargs):\n",
        "      self.args = list(args)\n",
        "      self.args = flatten_list(self.args)\n",
        "      self.kwargs = list(kwargs.values())\n",
        "\n",
        "      self.all_argies = self.args + self.kwargs\n",
        "\n",
        "    def __rlshift__(self, other):\n",
        "        return other(*self.all_argies)"
      ]
    },
    {
      "cell_type": "code",
      "source": [
        "sum << Args([1, 2])"
      ],
      "metadata": {
        "colab": {
          "base_uri": "https://localhost:8080/"
        },
        "id": "NU8NDjy7VXYn",
        "outputId": "5e98a1b4-589e-4d38-d486-365299ffb2fa"
      },
      "id": "NU8NDjy7VXYn",
      "execution_count": 258,
      "outputs": [
        {
          "output_type": "execute_result",
          "data": {
            "text/plain": [
              "3"
            ]
          },
          "metadata": {},
          "execution_count": 258
        }
      ]
    },
    {
      "cell_type": "code",
      "execution_count": 259,
      "id": "55afedbb-4725-4078-bd98-bf803be0bf93",
      "metadata": {
        "id": "55afedbb-4725-4078-bd98-bf803be0bf93",
        "outputId": "c1f4a9bd-d648-4f59-d668-e7b4d00451ac",
        "colab": {
          "base_uri": "https://localhost:8080/"
        }
      },
      "outputs": [
        {
          "output_type": "execute_result",
          "data": {
            "text/plain": [
              "53"
            ]
          },
          "metadata": {},
          "execution_count": 259
        }
      ],
      "source": [
        "(lambda a, b, c: a**2 + b + c) << Args(1, 2, c=50)"
      ]
    },
    {
      "cell_type": "markdown",
      "id": "d6915eaf-92fe-460b-bf9b-06ccf55b093f",
      "metadata": {
        "id": "d6915eaf-92fe-460b-bf9b-06ccf55b093f"
      },
      "source": [
        "# Задание 3 (5 баллов)"
      ]
    },
    {
      "cell_type": "markdown",
      "id": "5a588ef8-8af6-42b6-972b-3c716a604c34",
      "metadata": {
        "id": "5a588ef8-8af6-42b6-972b-3c716a604c34"
      },
      "source": [
        "Сделайте класс наследник `float`. Он должен вести себя как `float`, но также должен обладать некоторыми особенностями:\n",
        "+ При получении атрибутов формата `<действие>_<число>` мы получаем результат такого действия над нашим числом\n",
        "+ Создавать данные атрибуты в явном виде, очевидно, не стоит\n",
        "\n",
        "Подсказка: если в процессе гуглёжки, вы выйдете на такую тему как **\"Дескрипторы\", то это НЕ то, что вам сейчас нужно**\n",
        "\n",
        "Примеры использования ниже"
      ]
    },
    {
      "cell_type": "code",
      "execution_count": 439,
      "id": "61cb63a2-90ac-4b79-97a5-bb0496262e32",
      "metadata": {
        "id": "61cb63a2-90ac-4b79-97a5-bb0496262e32"
      },
      "outputs": [],
      "source": [
        "# for NOT nested:\n",
        "# ie it DOES NOT work only for number.add_1.add_2.multiply_6.divide_8.subtract_9\n",
        "\n",
        "class StrangeFloat(float):\n",
        "  def __getattr__(self, attr):\n",
        "    if '__' + attr.split('_')[0][:3] + '__' in dir(float):\n",
        "      fnc = getattr(float, '__' + attr.split('_')[0][:3] + '__')\n",
        "      return fnc(self, float(attr.split('_')[1]))\n",
        "    else: \n",
        "      dict_attr = {'subtract': self - float(attr.split('_')[1]), \n",
        "                    'multiply': self * float(attr.split('_')[1]), \n",
        "                    'divide': self / float(attr.split('_')[1])}\n",
        "      return StrangeFloat(dict_attr[attr.split('_')[0]])\n",
        "\n",
        "    def __repr__(self):\n",
        "      return float(self)"
      ]
    },
    {
      "cell_type": "code",
      "execution_count": 440,
      "id": "f730c9c0-7d90-4037-97c6-e926dcbc1ea3",
      "metadata": {
        "id": "f730c9c0-7d90-4037-97c6-e926dcbc1ea3"
      },
      "outputs": [],
      "source": [
        "number = StrangeFloat(3.5)"
      ]
    },
    {
      "cell_type": "code",
      "source": [
        "number.add_1"
      ],
      "metadata": {
        "colab": {
          "base_uri": "https://localhost:8080/"
        },
        "id": "4HLXHXn1l5wm",
        "outputId": "4351c97a-0fa8-40a0-997c-4ddd25fc1147"
      },
      "id": "4HLXHXn1l5wm",
      "execution_count": 430,
      "outputs": [
        {
          "output_type": "execute_result",
          "data": {
            "text/plain": [
              "4.5"
            ]
          },
          "metadata": {},
          "execution_count": 430
        }
      ]
    },
    {
      "cell_type": "code",
      "execution_count": 431,
      "id": "c6799592-3cb6-4c7d-af62-9c0a48a76c1d",
      "metadata": {
        "id": "c6799592-3cb6-4c7d-af62-9c0a48a76c1d",
        "outputId": "b011d1d3-d577-46a1-f28e-ee493ac95ee1",
        "colab": {
          "base_uri": "https://localhost:8080/"
        }
      },
      "outputs": [
        {
          "output_type": "execute_result",
          "data": {
            "text/plain": [
              "-16.5"
            ]
          },
          "metadata": {},
          "execution_count": 431
        }
      ],
      "source": [
        "number.subtract_20"
      ]
    },
    {
      "cell_type": "code",
      "execution_count": 434,
      "id": "130027b5-017a-4c70-b072-1fdc6acf670f",
      "metadata": {
        "id": "130027b5-017a-4c70-b072-1fdc6acf670f",
        "outputId": "ed74b64c-52aa-45f1-998c-cd4337ad5b34",
        "colab": {
          "base_uri": "https://localhost:8080/"
        }
      },
      "outputs": [
        {
          "output_type": "execute_result",
          "data": {
            "text/plain": [
              "17.5"
            ]
          },
          "metadata": {},
          "execution_count": 434
        }
      ],
      "source": [
        "number.multiply_5"
      ]
    },
    {
      "cell_type": "code",
      "execution_count": 441,
      "id": "2b901e5c-5a51-4788-b15b-9b20a074e1a4",
      "metadata": {
        "id": "2b901e5c-5a51-4788-b15b-9b20a074e1a4",
        "outputId": "cb5c3bb8-9c68-4aa5-f650-a7b2c6b65039",
        "colab": {
          "base_uri": "https://localhost:8080/"
        }
      },
      "outputs": [
        {
          "output_type": "execute_result",
          "data": {
            "text/plain": [
              "0.14"
            ]
          },
          "metadata": {},
          "execution_count": 441
        }
      ],
      "source": [
        "number.divide_25"
      ]
    },
    {
      "cell_type": "code",
      "execution_count": null,
      "id": "ea52c492-b0ce-4d73-8aba-a0ea51ed0b60",
      "metadata": {
        "id": "ea52c492-b0ce-4d73-8aba-a0ea51ed0b60",
        "outputId": "b365a0d9-d599-47d8-b343-4cefd79e23fb"
      },
      "outputs": [
        {
          "data": {
            "text/plain": [
              "-4.125"
            ]
          },
          "execution_count": 136,
          "metadata": {},
          "output_type": "execute_result"
        }
      ],
      "source": [
        "# I have not managed to do that\n",
        "number.add_1.add_2.multiply_6.divide_8.subtract_9"
      ]
    },
    {
      "cell_type": "code",
      "execution_count": 415,
      "id": "e26ef411-a5df-46c7-bb9d-e77a1fad3cec",
      "metadata": {
        "id": "e26ef411-a5df-46c7-bb9d-e77a1fad3cec",
        "outputId": "08d97644-d3c8-41f7-ad22-a185e0842c0b",
        "colab": {
          "base_uri": "https://localhost:8080/"
        }
      },
      "outputs": [
        {
          "output_type": "execute_result",
          "data": {
            "text/plain": [
              "1.0"
            ]
          },
          "metadata": {},
          "execution_count": 415
        }
      ],
      "source": [
        "getattr(number, \"add_-2.5\")   # Используем getattr, так как не можем написать number.add_-2.5 - это SyntaxError"
      ]
    },
    {
      "cell_type": "code",
      "execution_count": 416,
      "id": "7a57bb29-1105-4df1-a4c4-5fbf62eef11d",
      "metadata": {
        "id": "7a57bb29-1105-4df1-a4c4-5fbf62eef11d",
        "outputId": "86d5ce18-3c30-4145-efbe-f9fc70619cbf",
        "colab": {
          "base_uri": "https://localhost:8080/"
        }
      },
      "outputs": [
        {
          "output_type": "execute_result",
          "data": {
            "text/plain": [
              "11.5"
            ]
          },
          "metadata": {},
          "execution_count": 416
        }
      ],
      "source": [
        "number + 8   # Стандартные для float операции работают также"
      ]
    },
    {
      "cell_type": "code",
      "execution_count": 417,
      "id": "f0246b31-c55a-4bb8-ac15-46509bd8b340",
      "metadata": {
        "id": "f0246b31-c55a-4bb8-ac15-46509bd8b340",
        "outputId": "fdc40a9c-7bd4-49f1-d512-18164ec4fe90",
        "colab": {
          "base_uri": "https://localhost:8080/"
        }
      },
      "outputs": [
        {
          "output_type": "execute_result",
          "data": {
            "text/plain": [
              "(7, 2)"
            ]
          },
          "metadata": {},
          "execution_count": 417
        }
      ],
      "source": [
        "number.as_integer_ratio()   # Стандартные для float операции работают также  (это встроенный метод float, писать его НЕ НАДО)"
      ]
    },
    {
      "cell_type": "markdown",
      "id": "3635bceb-723c-4b2f-82e3-269bd914c46c",
      "metadata": {
        "id": "3635bceb-723c-4b2f-82e3-269bd914c46c"
      },
      "source": [
        "# Задание 4 (3 балла)"
      ]
    },
    {
      "cell_type": "markdown",
      "id": "31d35f82-1e20-4bf5-b896-7b8163f8386f",
      "metadata": {
        "id": "31d35f82-1e20-4bf5-b896-7b8163f8386f"
      },
      "source": [
        "В данном задании мы немного отдохнём и повеселимся. От вас требуется заменить в данном коде максимально возможное количество синтаксических конструкций на вызовы dunder методов, dunder атрибутов и dunder переменных.\n",
        "\n",
        "Маленькая заметка: полностью всё заменить невозможно. Например, `function()` можно записать как `function.__call__()`, но при этом мы всё ещё не избавляемся от скобочек, так что можно делать так до бесконечности `function.__call__.__call__.__call__.__call__.....__call__()` и при всём при этом мы ещё не избавляемся от `.` для доступа к атрибутам. В общем, замените всё, что получится, не закапываясь в повторы, как в приведённом примере. Чем больше разных методов вы найдёте и используете, тем лучше и тем выше будет балл\n",
        "\n",
        "Код по итогу дожен работать и печатать число **4420.0**, как в примере. Структуру кода менять нельзя, просто изменяем конструкции на синонимичные\n",
        "\n",
        "И ещё маленькая подсказка. Заменить здесь можно всё кроме:\n",
        "+ Конструкции `for ... in ...`:\n",
        "+ Синтаксиса создания лямбда функции\n",
        "+ Оператора присваивания `=`\n",
        "+ Конструкции `if-else`"
      ]
    },
    {
      "cell_type": "code",
      "source": [
        "(product[0] < 1000)"
      ],
      "metadata": {
        "colab": {
          "base_uri": "https://localhost:8080/"
        },
        "id": "_xjGp_0kw1ZC",
        "outputId": "4fa7f5d2-6532-4fab-a1f5-647124e8a50b"
      },
      "id": "_xjGp_0kw1ZC",
      "execution_count": 427,
      "outputs": [
        {
          "output_type": "execute_result",
          "data": {
            "text/plain": [
              "array([ True,  True,  True,  True])"
            ]
          },
          "metadata": {},
          "execution_count": 427
        }
      ]
    },
    {
      "cell_type": "code",
      "execution_count": 547,
      "id": "a87cff2a-7168-470d-b38f-1cb5a60ac0c4",
      "metadata": {
        "id": "a87cff2a-7168-470d-b38f-1cb5a60ac0c4",
        "outputId": "62c81233-30bb-4ba9-818c-cebc51abde4d",
        "colab": {
          "base_uri": "https://localhost:8080/"
        }
      },
      "outputs": [
        {
          "output_type": "stream",
          "name": "stdout",
          "text": [
            "4420.0\n"
          ]
        }
      ],
      "source": [
        "import numpy as np\n",
        "\n",
        "\n",
        "matrix = []\n",
        "for idx in range(0, 100, 10):\n",
        "    matrix += [list(range(idx, idx + 10))]\n",
        "    \n",
        "selected_columns_indices = list(filter(lambda x: x in range(1, 5, 2), range(len(matrix))))\n",
        "selected_columns = map(lambda x: [x[col] for col in selected_columns_indices], matrix)\n",
        "\n",
        "arr = np.array(list(selected_columns))\n",
        "\n",
        "mask = arr[:, 1] % 3 == 0\n",
        "new_arr = arr[mask]\n",
        "\n",
        "product = new_arr @ new_arr.T\n",
        "\n",
        "if (product[0] < 1000).all() and (product[2] > 1000).any():\n",
        "    print(product.mean())"
      ]
    },
    {
      "cell_type": "code",
      "execution_count": 548,
      "id": "9e29cc00-c8db-4cc4-a93b-2908352d9344",
      "metadata": {
        "id": "9e29cc00-c8db-4cc4-a93b-2908352d9344",
        "colab": {
          "base_uri": "https://localhost:8080/"
        },
        "outputId": "1d44baa1-bf7a-4ce5-818d-4f5a953bc978"
      },
      "outputs": [
        {
          "output_type": "stream",
          "name": "stdout",
          "text": [
            "4420.0\n"
          ]
        }
      ],
      "source": [
        "# overall, 3 (three) dunders\n",
        "\n",
        "import numpy as np\n",
        "\n",
        "\n",
        "matrix2 = []\n",
        "for idx in range(0, 100, 10):\n",
        "    matrix2.__iadd__([list(range(idx, idx + 10))])\n",
        "\n",
        "\n",
        "selected_columns_indices = list(filter(lambda x: x in range(1, 5, 2), range(matrix.__len__())))\n",
        "selected_columns = map(lambda x: [x.__getitem__(col) for col in selected_columns_indices], matrix)\n",
        "\n",
        "arr = np.array(list(selected_columns))\n",
        "\n",
        "mask = arr[:, 1] % 3 == 0\n",
        "new_arr = arr[mask]\n",
        "\n",
        "product = new_arr @ new_arr.T\n",
        "\n",
        "if (product[0] < 1000).all() and (product[2] > 1000).any():\n",
        "    print(product.mean())"
      ]
    },
    {
      "cell_type": "markdown",
      "id": "e90e5938-cabe-4ee1-9a88-73f25b3b67c3",
      "metadata": {
        "id": "e90e5938-cabe-4ee1-9a88-73f25b3b67c3"
      },
      "source": [
        "# Задание 5 (10 баллов)"
      ]
    },
    {
      "cell_type": "markdown",
      "id": "0e58f6a8-7bb8-45f0-b14d-3bcd1f1ba5a9",
      "metadata": {
        "id": "0e58f6a8-7bb8-45f0-b14d-3bcd1f1ba5a9"
      },
      "source": [
        "Напишите абстрактный класс `BiologicalSequence`, который задаёт следующий интерфейс:\n",
        "+ Работа с функцией `len`\n",
        "+ Возможность получать элементы по индексу и делать срезы последовательности (аналогично строкам)\n",
        "+ Вывод на печать в удобном виде и возможность конвертации в строку\n",
        "+ Возможность проверить алфавит последовательности на корректность\n",
        "\n",
        "Напишите класс `NucleicAcidSequence`:\n",
        "+ Данный класс реализует интерфейс `BiologicalSequence`\n",
        "+ Данный класс имеет новый метод `complement`, возвращающий комплементарную последовательность\n",
        "+ Данный класс имеет новый метод `gc_content`, возвращающий GC-состав (без разницы, в процентах или в долях)\n",
        "\n",
        "Напишите классы наследники `NucleicAcidSequence`: `DNASequence` и `RNASequence`\n",
        "+ `DNASequence` должен иметь метод `transcribe`, возвращающий транскрибированную РНК-последовательность\n",
        "+ Данные классы не должны иметь <ins>публичных методов</ins> `complement` и метода для проверки алфавита, так как они уже должны быть реализованы в `NucleicAcidSequence`.\n",
        "\n",
        "Напишите класс `AminoAcidSequence`:\n",
        "+ Данный класс реализует интерфейс `BiologicalSequence`\n",
        "+ Добавьте этому классу один любой метод, подходящий по смыслу к аминокислотной последовательности. Например, метод для нахождения изоэлектрической точки, молекулярного веса и т.д.\n",
        "\n",
        "Комментарий по поводу метода `NucleicAcidSequence.complement`, так как я хочу, чтобы вы сделали его опредедённым образом:\n",
        "\n",
        "При вызове `dna.complement()` или условного `dna.check_alphabet()` должны будут вызываться соответствующие методы из `NucleicAcidSequence`. При этом, данный метод должен обладать свойством полиморфизма, иначе говоря, внутри `complement` не надо делать условия а-ля `if seuqence_type == \"DNA\": return self.complement_dna()`, это крайне не гибко. Данный метод должен опираться на какой-то общий интерфейс между ДНК и РНК. Создание экземпляров `NucleicAcidSequence` не подразумевается, поэтому код `NucleicAcidSequence(\"ATGC\").complement()` не обязан работать, а в идеале должен кидать исключение `NotImplementedError` при вызове от экземпляра `NucleicAcidSequence`\n",
        "\n",
        "Вся сложность задания в том, чтобы правильно организовать код. Если у вас есть повторяющийся код в сестринских классах или родительском и дочернем, значит вы что-то делаете не так.\n",
        "\n",
        "\n",
        "Маленькое замечание: По-хорошему, между классом `BiologicalSequence` и классами `NucleicAcidSequence` и `AminoAcidSequence`, ещё должен быть класс-прослойка, частично реализующий интерфейс `BiologicalSequence`, но его писать не обязательно, так как задание и так довольно большое (правда из-за этого у вас неминуемо возникнет повторяющийся код в классах `NucleicAcidSequence` и `AminoAcidSequence`)"
      ]
    },
    {
      "cell_type": "code",
      "execution_count": 516,
      "id": "f17d5d3f-9982-4271-a987-3af7bc071c42",
      "metadata": {
        "id": "f17d5d3f-9982-4271-a987-3af7bc071c42",
        "cellView": "code"
      },
      "outputs": [],
      "source": [
        "from abc import ABC, abstractmethod\n",
        "\n",
        "\n",
        "class BiologicalSequence(ABC):\n",
        "  def __init__(self, sequence):\n",
        "    self.sequence = sequence.upper()\n",
        "\n",
        "  def __len__(self):\n",
        "    return len(self.sequence)\n",
        "\n",
        "  @abstractmethod\n",
        "  def __getitem__(self, slc):\n",
        "    pass\n",
        "\n",
        "  @abstractmethod\n",
        "  def check_alphabet(self):\n",
        "    pass\n",
        "\n",
        "  def __repr__(self):\n",
        "    return str(self.sequence)"
      ]
    },
    {
      "cell_type": "code",
      "source": [
        "class NucleicAcidSequence(BiologicalSequence):\n",
        "  def check_alphabet(self):\n",
        "    check_na = (['U'], ['T'])[int(self.sequence_type == \"DNA\")]\n",
        "    check_set = set(['A', 'G', 'C'] + check_na)\n",
        "    len_foreign = len(set(self.sequence) - check_set)\n",
        "    assert len_foreign == 0, 'wrong alphabet!!!'\n",
        "\n",
        "  def complement(self):\n",
        "    if self.sequence_type == \"DNA\":\n",
        "      dict_trans = {'A': 'T', 'T': 'A', 'C': 'G', 'G': 'C'}\n",
        "    elif self.sequence_type == 'RNA':\n",
        "      dict_trans = {'A': 'U', 'U': 'A', 'C': 'G', 'G': 'C'}\n",
        "    return ''.join([dict_trans[nucleotid] for nucleotid in self.sequence])\n",
        "\n",
        "  def gc_content(self):\n",
        "    gc_count = self.sequence.count('G') + self.sequence.count('C')\n",
        "    return gc_count / len(self.sequence)\n",
        "\n",
        "  def __getitem__(self, slc):\n",
        "    if isinstance(slc, int):\n",
        "      return self.sequence.__getitem__(slc)\n",
        "    elif isinstance(slc, slice):\n",
        "      return self.sequence.__getitem__(slc)"
      ],
      "metadata": {
        "id": "FF4SYcVq3TTK"
      },
      "id": "FF4SYcVq3TTK",
      "execution_count": 513,
      "outputs": []
    },
    {
      "cell_type": "code",
      "source": [
        "class DNASequence(NucleicAcidSequence):\n",
        "  def __init__(self, param):\n",
        "    super().__init__(param)\n",
        "    self.sequence_type = \"DNA\"\n",
        "\n",
        "  def transcribe(self):\n",
        "    dict_trans_dna = {'A': 'U', 'T': 'A', 'C': 'G', 'G': 'C'}\n",
        "    return ''.join([dict_trans_dna[nucleotid] for nucleotid in self.sequence])\n",
        "\n",
        "\n",
        "class RNASequence(NucleicAcidSequence):\n",
        "  def __init__(self, param):\n",
        "    super().__init__(param)\n",
        "    self.sequence_type = \"RNA\""
      ],
      "metadata": {
        "id": "exmTX6z25bhR"
      },
      "id": "exmTX6z25bhR",
      "execution_count": 520,
      "outputs": []
    },
    {
      "cell_type": "code",
      "source": [
        "class AminoAcidSequence(BiologicalSequence):\n",
        "  def pI_calculator(self):\n",
        "    dict_pI = {'A': 6.11, 'R': 10.76, 'N': 5.43, 'D': 2.98, 'C': 5.15, \n",
        "               'E': 3.08, 'Q': 5.65, 'G': 6.06, 'H': 7.64, 'I': 6.04,\n",
        "               'L': 6.04, 'K': 9.47, 'M': 5.71, 'F': 5.76, 'P': 6.30,\n",
        "               'S': 5.70, 'T': 5.60, 'W': 5.88, 'Y': 5.63, 'V': 6.02}\n",
        "\n",
        "    all_pI = [dict_pI[aa] for aa in self.sequence]\n",
        "    return sum(all_pI) / len(all_pI)\n",
        "\n",
        "  def __getitem__(self, slc):\n",
        "    if isinstance(slc, int):\n",
        "      return self.sequence.__getitem__(slc)\n",
        "    elif isinstance(slc, slice):\n",
        "      return self.sequence.__getitem__(slc)\n",
        "\n",
        "  def check_alphabet(self):\n",
        "    check_aa = set(['A', 'R', 'N', 'D', 'C', 'E', 'Q', 'G', 'H', 'I', \n",
        "                    'L', 'K', 'M', 'F', 'P', 'S', 'T', 'W', 'Y', 'V'])\n",
        "    len_foreign = len(set(self.sequence) - check_aa)\n",
        "    assert len_foreign == 0, 'wrong alphabet!!!'"
      ],
      "metadata": {
        "id": "AMoKhicg_zqq"
      },
      "id": "AMoKhicg_zqq",
      "execution_count": 521,
      "outputs": []
    }
  ],
  "metadata": {
    "kernelspec": {
      "display_name": "Python 3 (ipykernel)",
      "language": "python",
      "name": "python3"
    },
    "language_info": {
      "codemirror_mode": {
        "name": "ipython",
        "version": 3
      },
      "file_extension": ".py",
      "mimetype": "text/x-python",
      "name": "python",
      "nbconvert_exporter": "python",
      "pygments_lexer": "ipython3",
      "version": "3.9.12"
    },
    "colab": {
      "provenance": []
    }
  },
  "nbformat": 4,
  "nbformat_minor": 5
}